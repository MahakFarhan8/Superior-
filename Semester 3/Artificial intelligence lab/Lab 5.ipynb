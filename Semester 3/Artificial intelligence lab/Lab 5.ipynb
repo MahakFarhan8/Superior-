{
 "cells": [
  {
   "cell_type": "code",
   "execution_count": 31,
   "id": "70059158",
   "metadata": {},
   "outputs": [
    {
     "name": "stdout",
     "output_type": "stream",
     "text": [
      "Visited Roots:  {'A'}\n",
      "Roots:  ['A']\n",
      "B\n",
      "C\n",
      "D\n",
      "Visited Roots:  {'D'}\n",
      "Roots:  ['D']\n",
      "H\n",
      "I\n"
     ]
    }
   ],
   "source": [
    "#Lab 5 task 1\n",
    "G={\n",
    "    'A':['B','C','D'],\n",
    "    'B':['E'],\n",
    "    'C':['F','G'],\n",
    "    'D':['H','I'],\n",
    "    'E':['S'],\n",
    "    'F':['T'],\n",
    "    'G':[],\n",
    "    'H':[],\n",
    "    'I':[],\n",
    "    'S':[],\n",
    "    'T':[]\n",
    "}\n",
    "\n",
    "def dfs(start,goal):\n",
    "    visited = set()\n",
    "    stack=[]\n",
    "    \n",
    "    visited.add(start)\n",
    "    print(\"Visited Roots: \",visited)\n",
    "    \n",
    "    stack.append(start)\n",
    "    print(\"Roots: \",stack)\n",
    "    \n",
    "    while stack:\n",
    "        root = stack.pop()\n",
    "        \n",
    "        for i in G[start]:\n",
    "            print(i)\n",
    "        \n",
    "        if i == goal:\n",
    "            return\n",
    "        dfs(i,goal)\n",
    "dfs('A','I')"
   ]
  },
  {
   "cell_type": "code",
   "execution_count": 27,
   "id": "4d724f86",
   "metadata": {},
   "outputs": [
    {
     "name": "stdout",
     "output_type": "stream",
     "text": [
      "Inorder: [4, 2, 1, 3, 9]\n",
      "Preorder: [1, 2, 4, 3, 9]\n",
      "Postorder: [4, 2, 9, 3, 1]\n"
     ]
    }
   ],
   "source": [
    "#lab 5 task 2\n",
    "class Node:\n",
    "    def __init__(self, value):\n",
    "        self.value = value\n",
    "        self.left = None\n",
    "        self.right = None\n",
    "\n",
    "def inorder(node):\n",
    "    return traverse(node, [], 'inorder')\n",
    "\n",
    "def preorder(node):\n",
    "    return traverse(node, [], 'preorder')\n",
    "\n",
    "def postorder(node):\n",
    "    return traverse(node, [], 'postorder')\n",
    "\n",
    "def traverse(node, result, order):\n",
    "    if node is not None:\n",
    "        if order == 'preorder':\n",
    "            result.append(node.value)  \n",
    "        traverse(node.left, result, order)  \n",
    "        if order == 'inorder':\n",
    "            result.append(node.value)  \n",
    "        traverse(node.right, result, order)  \n",
    "        if order == 'postorder':\n",
    "            result.append(node.value)\n",
    "    return result\n",
    "obj = TreeNode(1)\n",
    "obj.left = TreeNode(2)\n",
    "obj.right = TreeNode(3)\n",
    "obj.left.left = TreeNode(4)\n",
    "obj.right.right = TreeNode(9)\n",
    "\n",
    "print(\"Inorder:\", inorder(obj))   \n",
    "print(\"Preorder:\", preorder(obj))   \n",
    "print(\"Postorder:\", postorder(obj))\n"
   ]
  },
  {
   "cell_type": "code",
   "execution_count": null,
   "id": "745224a9",
   "metadata": {},
   "outputs": [],
   "source": []
  }
 ],
 "metadata": {
  "kernelspec": {
   "display_name": "Python 3 (ipykernel)",
   "language": "python",
   "name": "python3"
  },
  "language_info": {
   "codemirror_mode": {
    "name": "ipython",
    "version": 3
   },
   "file_extension": ".py",
   "mimetype": "text/x-python",
   "name": "python",
   "nbconvert_exporter": "python",
   "pygments_lexer": "ipython3",
   "version": "3.11.5"
  }
 },
 "nbformat": 4,
 "nbformat_minor": 5
}
