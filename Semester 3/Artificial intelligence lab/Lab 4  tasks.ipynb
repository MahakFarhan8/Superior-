{
 "cells": [
  {
   "cell_type": "code",
   "execution_count": 1,
   "id": "8fce6a3e",
   "metadata": {},
   "outputs": [],
   "source": [
    "#Task 1"
   ]
  },
  {
   "cell_type": "code",
   "execution_count": 2,
   "id": "0f8b366b",
   "metadata": {},
   "outputs": [
    {
     "name": "stdout",
     "output_type": "stream",
     "text": [
      "---------------LUHN Algorithm---------------\n",
      "Step 1\n",
      "[4, 7, 8, 2, 7, 8, 0, 0, 0, 1, 6, 1, 6, 4, 0, 1]\n",
      "[4, 7, 8, 2, 7, 8, 0, 0, 0, 1, 6, 1, 6, 4, 0, 'X']\n",
      "[4, 7, 8, 2, 7, 8, 0, 0, 0, 1, 6, 1, 6, 4, 0]\n",
      "Step 2\n",
      "[0, 4, 6, 1, 6, 1, 0, 0, 0, 8, 7, 2, 8, 7, 4]\n",
      "Step 3\n",
      "[0, 4, 12, 1, 12, 1, 0, 0, 0, 8, 14, 2, 16, 7, 8]\n",
      "Step 4\n",
      "[0, 4, 3, 1, 3, 1, 0, 0, 0, 8, 5, 2, 7, 7, 8]\n",
      "Step 5\n",
      "[0, 4, 3, 1, 3, 1, 0, 0, 0, 8, 5, 2, 7, 7, 8, 1]\n",
      "Step 6\n",
      "50\n",
      "Step 7\n",
      "Valid\n"
     ]
    }
   ],
   "source": [
    "print(\"---------------LUHN Algorithm---------------\")\n",
    "print(\"Step 1\")\n",
    "card = [4,7,8,2,7,8,0,0,0,1,6,1,6,4,0,1]\n",
    "print(card)\n",
    "card1 = card\n",
    "card1[15]=\"X\"\n",
    "print(card1)\n",
    "card1.pop(15)\n",
    "print(card)\n",
    "print(\"Step 2\")\n",
    "card.reverse()\n",
    "card2=card1\n",
    "print(card1)\n",
    "print(\"Step 3\")\n",
    "for i in range(0,len(card2),2):\n",
    "    card2[i] *=2\n",
    "print(card2)\n",
    "print(\"Step 4\")\n",
    "for i in range(len(card2)):\n",
    "    if card2[i]>9:\n",
    "        card2[i]-=9\n",
    "print(card2)\n",
    "print(\"Step 5\")\n",
    "card3=card2\n",
    "card3.append(1)\n",
    "print(card3)\n",
    "print(\"Step 6\")\n",
    "sum1 = sum(card3)\n",
    "print(sum1)\n",
    "print(\"Step 7\")\n",
    "if sum1%10==0:\n",
    "    print(\"Valid\")\n",
    "else:\n",
    "    print(\"Invalid\")"
   ]
  },
  {
   "cell_type": "code",
   "execution_count": 3,
   "id": "a3a27e61",
   "metadata": {},
   "outputs": [],
   "source": [
    "#Task 2"
   ]
  },
  {
   "cell_type": "code",
   "execution_count": 10,
   "id": "b74c2201",
   "metadata": {},
   "outputs": [
    {
     "name": "stdout",
     "output_type": "stream",
     "text": [
      "Enter the string: mahak#$%^*(&%%*\"}{{\n",
      "Updated String:  mahak\n"
     ]
    }
   ],
   "source": [
    "String = input(\"Enter the string: \")\n",
    "result = ''\n",
    "for i in String:\n",
    "    if i.isalnum():\n",
    "        result +=i\n",
    "print(\"Updated String: \" ,result)"
   ]
  },
  {
   "cell_type": "code",
   "execution_count": 11,
   "id": "704949d5",
   "metadata": {},
   "outputs": [],
   "source": [
    "#Task 3"
   ]
  },
  {
   "cell_type": "code",
   "execution_count": 3,
   "id": "0800f8a5",
   "metadata": {},
   "outputs": [
    {
     "name": "stdout",
     "output_type": "stream",
     "text": [
      "['Farhan', 'Mahak', 'a', 'ali', 'b', 'd']\n"
     ]
    }
   ],
   "source": [
    "list1 = [\"d\",\"b\",\"a\",\"ali\",\"Mahak\",\"Farhan\"]\n",
    "for j in range(len(list1)-1):\n",
    "    for i in range(len(list1)-1-j):\n",
    "        if list1[i]>list1[i+1]:\n",
    "            list1[i],list1[i+1] = list1[i+1],list1[i]\n",
    "print(list1)"
   ]
  },
  {
   "cell_type": "code",
   "execution_count": null,
   "id": "b453f379",
   "metadata": {},
   "outputs": [],
   "source": []
  }
 ],
 "metadata": {
  "kernelspec": {
   "display_name": "Python 3 (ipykernel)",
   "language": "python",
   "name": "python3"
  },
  "language_info": {
   "codemirror_mode": {
    "name": "ipython",
    "version": 3
   },
   "file_extension": ".py",
   "mimetype": "text/x-python",
   "name": "python",
   "nbconvert_exporter": "python",
   "pygments_lexer": "ipython3",
   "version": "3.11.5"
  }
 },
 "nbformat": 4,
 "nbformat_minor": 5
}
