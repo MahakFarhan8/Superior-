{
 "cells": [
  {
   "cell_type": "code",
   "execution_count": 1,
   "id": "54dbff16",
   "metadata": {},
   "outputs": [
    {
     "name": "stdout",
     "output_type": "stream",
     "text": [
      "Player 1, it's your turn\n",
      "Enter the number1\n",
      "Player 1 entered: 1\n",
      "Nither Fizz nor Buzz\n",
      "Player 2, it's your turn\n",
      "Enter the number3\n",
      "Player 2 entered: 3\n",
      "Nither Fizz nor Buzz\n",
      "Player 1, it's your turn\n",
      "Enter the number3\n",
      "Player 1 entered: 3\n",
      "Fizz\n",
      "Player 2, it's your turn\n",
      "Enter the number12\n",
      "Player 2 entered: 12\n",
      "Fizz buzz.You lose\n",
      "Player 2 won\n",
      "Do you want to play again: no\n",
      "Thank you for playing!\n"
     ]
    }
   ],
   "source": [
    "def game():\n",
    "    previous_number = 0\n",
    "    player_turn = 1\n",
    "    \n",
    "    while True:\n",
    "        print(f\"Player {player_turn}, it's your turn\")\n",
    "        current_number = int(input(\"Enter the number\"))\n",
    "        print(f\"Player {player_turn} entered: {current_number}\")\n",
    "        \n",
    "        a=previous_number+current_number\n",
    "        \n",
    "        if a % 3 == 0 and a % 5 == 0:\n",
    "            print(\"Fizz buzz.You lose\")\n",
    "            print(\"Player 2 won\")\n",
    "            break\n",
    "        elif a % 3 == 0:\n",
    "            print(\"Fizz\")\n",
    "        elif a % 5 == 0:\n",
    "            print(\"Buzz\")\n",
    "        else:\n",
    "            print(\"Nither Fizz nor Buzz\")\n",
    "        \n",
    "        previous_number = current_number\n",
    "        \n",
    "        if player_turn == 1:\n",
    "            player_turn = 2\n",
    "        else:\n",
    "            player_turn = 1\n",
    "def main():\n",
    "    flag = True\n",
    "    while flag:\n",
    "        game()\n",
    "        flag_input=input(\"Do you want to play again: \")\n",
    "        if flag_input == \"yes\":\n",
    "            flag = True\n",
    "        else:\n",
    "            print(\"Thank you for playing!\")\n",
    "            flag = False\n",
    "main()"
   ]
  },
  {
   "cell_type": "code",
   "execution_count": null,
   "id": "b72c7051",
   "metadata": {},
   "outputs": [],
   "source": []
  }
 ],
 "metadata": {
  "kernelspec": {
   "display_name": "Python 3 (ipykernel)",
   "language": "python",
   "name": "python3"
  },
  "language_info": {
   "codemirror_mode": {
    "name": "ipython",
    "version": 3
   },
   "file_extension": ".py",
   "mimetype": "text/x-python",
   "name": "python",
   "nbconvert_exporter": "python",
   "pygments_lexer": "ipython3",
   "version": "3.11.5"
  }
 },
 "nbformat": 4,
 "nbformat_minor": 5
}
