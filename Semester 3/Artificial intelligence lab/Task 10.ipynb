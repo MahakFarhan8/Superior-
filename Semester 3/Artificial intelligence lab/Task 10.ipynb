{
 "cells": [
  {
   "cell_type": "code",
   "execution_count": 233,
   "id": "8cb626e8",
   "metadata": {},
   "outputs": [],
   "source": [
    "import pandas as pd\n",
    "import numpy as np\n",
    "import pickle\n",
    "\n",
    "from sklearn.svm import SVC\n",
    "from sklearn.metrics import accuracy_score\n",
    "from sklearn.preprocessing import LabelEncoder\n",
    "from sklearn.model_selection import train_test_split"
   ]
  },
  {
   "cell_type": "code",
   "execution_count": 234,
   "id": "31a54fe3",
   "metadata": {},
   "outputs": [
    {
     "name": "stdout",
     "output_type": "stream",
     "text": [
      "Number of Rows: 4600 \n",
      "Number of Columns: 18\n"
     ]
    }
   ],
   "source": [
    "df = pd.read_csv(\"data1.csv\")\n",
    "print(f\"Number of Rows: {df.shape[0]} \\nNumber of Columns: {df.shape[1]}\")"
   ]
  },
  {
   "cell_type": "code",
   "execution_count": 235,
   "id": "27856d9e",
   "metadata": {},
   "outputs": [
    {
     "data": {
      "text/html": [
       "<div>\n",
       "<style scoped>\n",
       "    .dataframe tbody tr th:only-of-type {\n",
       "        vertical-align: middle;\n",
       "    }\n",
       "\n",
       "    .dataframe tbody tr th {\n",
       "        vertical-align: top;\n",
       "    }\n",
       "\n",
       "    .dataframe thead th {\n",
       "        text-align: right;\n",
       "    }\n",
       "</style>\n",
       "<table border=\"1\" class=\"dataframe\">\n",
       "  <thead>\n",
       "    <tr style=\"text-align: right;\">\n",
       "      <th></th>\n",
       "      <th>date</th>\n",
       "      <th>price</th>\n",
       "      <th>bedrooms</th>\n",
       "      <th>bathrooms</th>\n",
       "      <th>sqft_living</th>\n",
       "      <th>sqft_lot</th>\n",
       "      <th>floors</th>\n",
       "      <th>waterfront</th>\n",
       "      <th>view</th>\n",
       "      <th>condition</th>\n",
       "      <th>sqft_above</th>\n",
       "      <th>sqft_basement</th>\n",
       "      <th>yr_built</th>\n",
       "      <th>yr_renovated</th>\n",
       "      <th>street</th>\n",
       "      <th>city</th>\n",
       "      <th>statezip</th>\n",
       "      <th>country</th>\n",
       "    </tr>\n",
       "  </thead>\n",
       "  <tbody>\n",
       "    <tr>\n",
       "      <th>0</th>\n",
       "      <td>5/2/2014 0:00</td>\n",
       "      <td>313000.0</td>\n",
       "      <td>3.0</td>\n",
       "      <td>1.5</td>\n",
       "      <td>1340.0</td>\n",
       "      <td>7912.0</td>\n",
       "      <td>1.5</td>\n",
       "      <td>0.0</td>\n",
       "      <td>0.0</td>\n",
       "      <td>3</td>\n",
       "      <td>1340.0</td>\n",
       "      <td>0.0</td>\n",
       "      <td>1955.0</td>\n",
       "      <td>2005</td>\n",
       "      <td>18810 Densmore Ave N</td>\n",
       "      <td>Shoreline</td>\n",
       "      <td>WA 98133</td>\n",
       "      <td>USA</td>\n",
       "    </tr>\n",
       "    <tr>\n",
       "      <th>1</th>\n",
       "      <td>5/2/2014 0:00</td>\n",
       "      <td>2384000.0</td>\n",
       "      <td>5.0</td>\n",
       "      <td>2.5</td>\n",
       "      <td>3650.0</td>\n",
       "      <td>9050.0</td>\n",
       "      <td>2.0</td>\n",
       "      <td>0.0</td>\n",
       "      <td>4.0</td>\n",
       "      <td>5</td>\n",
       "      <td>3370.0</td>\n",
       "      <td>280.0</td>\n",
       "      <td>1921.0</td>\n",
       "      <td>0</td>\n",
       "      <td>709 W Blaine St</td>\n",
       "      <td>Seattle</td>\n",
       "      <td>WA 98119</td>\n",
       "      <td>USA</td>\n",
       "    </tr>\n",
       "  </tbody>\n",
       "</table>\n",
       "</div>"
      ],
      "text/plain": [
       "            date      price  bedrooms  bathrooms  sqft_living  sqft_lot  \\\n",
       "0  5/2/2014 0:00   313000.0       3.0        1.5       1340.0    7912.0   \n",
       "1  5/2/2014 0:00  2384000.0       5.0        2.5       3650.0    9050.0   \n",
       "\n",
       "   floors  waterfront  view  condition  sqft_above  sqft_basement  yr_built  \\\n",
       "0     1.5         0.0   0.0          3      1340.0            0.0    1955.0   \n",
       "1     2.0         0.0   4.0          5      3370.0          280.0    1921.0   \n",
       "\n",
       "   yr_renovated                street       city  statezip country  \n",
       "0          2005  18810 Densmore Ave N  Shoreline  WA 98133     USA  \n",
       "1             0       709 W Blaine St    Seattle  WA 98119     USA  "
      ]
     },
     "execution_count": 235,
     "metadata": {},
     "output_type": "execute_result"
    }
   ],
   "source": [
    "df.head(2)"
   ]
  },
  {
   "cell_type": "code",
   "execution_count": 236,
   "id": "d39e1449",
   "metadata": {},
   "outputs": [
    {
     "data": {
      "text/html": [
       "<div>\n",
       "<style scoped>\n",
       "    .dataframe tbody tr th:only-of-type {\n",
       "        vertical-align: middle;\n",
       "    }\n",
       "\n",
       "    .dataframe tbody tr th {\n",
       "        vertical-align: top;\n",
       "    }\n",
       "\n",
       "    .dataframe thead th {\n",
       "        text-align: right;\n",
       "    }\n",
       "</style>\n",
       "<table border=\"1\" class=\"dataframe\">\n",
       "  <thead>\n",
       "    <tr style=\"text-align: right;\">\n",
       "      <th></th>\n",
       "      <th>date</th>\n",
       "      <th>price</th>\n",
       "      <th>bedrooms</th>\n",
       "      <th>bathrooms</th>\n",
       "      <th>sqft_living</th>\n",
       "      <th>sqft_lot</th>\n",
       "      <th>floors</th>\n",
       "      <th>waterfront</th>\n",
       "      <th>view</th>\n",
       "      <th>condition</th>\n",
       "      <th>sqft_above</th>\n",
       "      <th>sqft_basement</th>\n",
       "      <th>yr_built</th>\n",
       "      <th>yr_renovated</th>\n",
       "      <th>street</th>\n",
       "      <th>city</th>\n",
       "      <th>statezip</th>\n",
       "      <th>country</th>\n",
       "    </tr>\n",
       "  </thead>\n",
       "  <tbody>\n",
       "    <tr>\n",
       "      <th>4598</th>\n",
       "      <td>7/10/2014 0:00</td>\n",
       "      <td>203400.0</td>\n",
       "      <td>4.0</td>\n",
       "      <td>2.0</td>\n",
       "      <td>2090.0</td>\n",
       "      <td>6630.0</td>\n",
       "      <td>1.0</td>\n",
       "      <td>0.0</td>\n",
       "      <td>0.0</td>\n",
       "      <td>3</td>\n",
       "      <td>1070.0</td>\n",
       "      <td>1020.0</td>\n",
       "      <td>1974.0</td>\n",
       "      <td>0</td>\n",
       "      <td>5148 S Creston St</td>\n",
       "      <td>Seattle</td>\n",
       "      <td>WA 98178</td>\n",
       "      <td>USA</td>\n",
       "    </tr>\n",
       "    <tr>\n",
       "      <th>4599</th>\n",
       "      <td>7/10/2014 0:00</td>\n",
       "      <td>220600.0</td>\n",
       "      <td>3.0</td>\n",
       "      <td>2.5</td>\n",
       "      <td>1490.0</td>\n",
       "      <td>8102.0</td>\n",
       "      <td>2.0</td>\n",
       "      <td>0.0</td>\n",
       "      <td>0.0</td>\n",
       "      <td>4</td>\n",
       "      <td>1490.0</td>\n",
       "      <td>0.0</td>\n",
       "      <td>1990.0</td>\n",
       "      <td>0</td>\n",
       "      <td>18717 SE 258th St</td>\n",
       "      <td>Covington</td>\n",
       "      <td>WA 98042</td>\n",
       "      <td>USA</td>\n",
       "    </tr>\n",
       "  </tbody>\n",
       "</table>\n",
       "</div>"
      ],
      "text/plain": [
       "                date     price  bedrooms  bathrooms  sqft_living  sqft_lot  \\\n",
       "4598  7/10/2014 0:00  203400.0       4.0        2.0       2090.0    6630.0   \n",
       "4599  7/10/2014 0:00  220600.0       3.0        2.5       1490.0    8102.0   \n",
       "\n",
       "      floors  waterfront  view  condition  sqft_above  sqft_basement  \\\n",
       "4598     1.0         0.0   0.0          3      1070.0         1020.0   \n",
       "4599     2.0         0.0   0.0          4      1490.0            0.0   \n",
       "\n",
       "      yr_built  yr_renovated             street       city  statezip country  \n",
       "4598    1974.0             0  5148 S Creston St    Seattle  WA 98178     USA  \n",
       "4599    1990.0             0  18717 SE 258th St  Covington  WA 98042     USA  "
      ]
     },
     "execution_count": 236,
     "metadata": {},
     "output_type": "execute_result"
    }
   ],
   "source": [
    "df.tail(2)"
   ]
  },
  {
   "cell_type": "code",
   "execution_count": 237,
   "id": "bf879618",
   "metadata": {},
   "outputs": [
    {
     "data": {
      "text/html": [
       "<div>\n",
       "<style scoped>\n",
       "    .dataframe tbody tr th:only-of-type {\n",
       "        vertical-align: middle;\n",
       "    }\n",
       "\n",
       "    .dataframe tbody tr th {\n",
       "        vertical-align: top;\n",
       "    }\n",
       "\n",
       "    .dataframe thead th {\n",
       "        text-align: right;\n",
       "    }\n",
       "</style>\n",
       "<table border=\"1\" class=\"dataframe\">\n",
       "  <thead>\n",
       "    <tr style=\"text-align: right;\">\n",
       "      <th></th>\n",
       "      <th>price</th>\n",
       "      <th>bedrooms</th>\n",
       "      <th>bathrooms</th>\n",
       "      <th>sqft_living</th>\n",
       "      <th>sqft_lot</th>\n",
       "      <th>floors</th>\n",
       "      <th>waterfront</th>\n",
       "      <th>view</th>\n",
       "      <th>condition</th>\n",
       "      <th>sqft_above</th>\n",
       "      <th>sqft_basement</th>\n",
       "      <th>yr_built</th>\n",
       "      <th>yr_renovated</th>\n",
       "    </tr>\n",
       "  </thead>\n",
       "  <tbody>\n",
       "    <tr>\n",
       "      <th>count</th>\n",
       "      <td>4.597000e+03</td>\n",
       "      <td>4595.000000</td>\n",
       "      <td>4598.000000</td>\n",
       "      <td>4598.000000</td>\n",
       "      <td>4.598000e+03</td>\n",
       "      <td>4598.000000</td>\n",
       "      <td>4595.000000</td>\n",
       "      <td>4598.000000</td>\n",
       "      <td>4600.000000</td>\n",
       "      <td>4597.000000</td>\n",
       "      <td>4597.000000</td>\n",
       "      <td>4594.000000</td>\n",
       "      <td>4600.000000</td>\n",
       "    </tr>\n",
       "    <tr>\n",
       "      <th>mean</th>\n",
       "      <td>5.521190e+05</td>\n",
       "      <td>3.401088</td>\n",
       "      <td>2.160668</td>\n",
       "      <td>2139.498913</td>\n",
       "      <td>1.485607e+04</td>\n",
       "      <td>1.511853</td>\n",
       "      <td>0.007182</td>\n",
       "      <td>0.240757</td>\n",
       "      <td>3.451739</td>\n",
       "      <td>1827.509463</td>\n",
       "      <td>312.122036</td>\n",
       "      <td>1970.799086</td>\n",
       "      <td>808.608261</td>\n",
       "    </tr>\n",
       "    <tr>\n",
       "      <th>std</th>\n",
       "      <td>5.639834e+05</td>\n",
       "      <td>0.908983</td>\n",
       "      <td>0.783920</td>\n",
       "      <td>963.387024</td>\n",
       "      <td>3.589177e+04</td>\n",
       "      <td>0.537905</td>\n",
       "      <td>0.084449</td>\n",
       "      <td>0.778558</td>\n",
       "      <td>0.677230</td>\n",
       "      <td>862.138540</td>\n",
       "      <td>464.228562</td>\n",
       "      <td>29.740666</td>\n",
       "      <td>979.414536</td>\n",
       "    </tr>\n",
       "    <tr>\n",
       "      <th>min</th>\n",
       "      <td>0.000000e+00</td>\n",
       "      <td>0.000000</td>\n",
       "      <td>0.000000</td>\n",
       "      <td>370.000000</td>\n",
       "      <td>6.380000e+02</td>\n",
       "      <td>1.000000</td>\n",
       "      <td>0.000000</td>\n",
       "      <td>0.000000</td>\n",
       "      <td>1.000000</td>\n",
       "      <td>370.000000</td>\n",
       "      <td>0.000000</td>\n",
       "      <td>1900.000000</td>\n",
       "      <td>0.000000</td>\n",
       "    </tr>\n",
       "    <tr>\n",
       "      <th>25%</th>\n",
       "      <td>3.238333e+05</td>\n",
       "      <td>3.000000</td>\n",
       "      <td>1.750000</td>\n",
       "      <td>1460.000000</td>\n",
       "      <td>5.001000e+03</td>\n",
       "      <td>1.000000</td>\n",
       "      <td>0.000000</td>\n",
       "      <td>0.000000</td>\n",
       "      <td>3.000000</td>\n",
       "      <td>1190.000000</td>\n",
       "      <td>0.000000</td>\n",
       "      <td>1951.000000</td>\n",
       "      <td>0.000000</td>\n",
       "    </tr>\n",
       "    <tr>\n",
       "      <th>50%</th>\n",
       "      <td>4.610000e+05</td>\n",
       "      <td>3.000000</td>\n",
       "      <td>2.250000</td>\n",
       "      <td>1980.000000</td>\n",
       "      <td>7.683000e+03</td>\n",
       "      <td>1.500000</td>\n",
       "      <td>0.000000</td>\n",
       "      <td>0.000000</td>\n",
       "      <td>3.000000</td>\n",
       "      <td>1590.000000</td>\n",
       "      <td>0.000000</td>\n",
       "      <td>1976.000000</td>\n",
       "      <td>0.000000</td>\n",
       "    </tr>\n",
       "    <tr>\n",
       "      <th>75%</th>\n",
       "      <td>6.550000e+05</td>\n",
       "      <td>4.000000</td>\n",
       "      <td>2.500000</td>\n",
       "      <td>2620.000000</td>\n",
       "      <td>1.100375e+04</td>\n",
       "      <td>2.000000</td>\n",
       "      <td>0.000000</td>\n",
       "      <td>0.000000</td>\n",
       "      <td>4.000000</td>\n",
       "      <td>2300.000000</td>\n",
       "      <td>610.000000</td>\n",
       "      <td>1997.000000</td>\n",
       "      <td>1999.000000</td>\n",
       "    </tr>\n",
       "    <tr>\n",
       "      <th>max</th>\n",
       "      <td>2.659000e+07</td>\n",
       "      <td>9.000000</td>\n",
       "      <td>8.000000</td>\n",
       "      <td>13540.000000</td>\n",
       "      <td>1.074218e+06</td>\n",
       "      <td>3.500000</td>\n",
       "      <td>1.000000</td>\n",
       "      <td>4.000000</td>\n",
       "      <td>5.000000</td>\n",
       "      <td>9410.000000</td>\n",
       "      <td>4820.000000</td>\n",
       "      <td>2014.000000</td>\n",
       "      <td>2014.000000</td>\n",
       "    </tr>\n",
       "  </tbody>\n",
       "</table>\n",
       "</div>"
      ],
      "text/plain": [
       "              price     bedrooms    bathrooms   sqft_living      sqft_lot  \\\n",
       "count  4.597000e+03  4595.000000  4598.000000   4598.000000  4.598000e+03   \n",
       "mean   5.521190e+05     3.401088     2.160668   2139.498913  1.485607e+04   \n",
       "std    5.639834e+05     0.908983     0.783920    963.387024  3.589177e+04   \n",
       "min    0.000000e+00     0.000000     0.000000    370.000000  6.380000e+02   \n",
       "25%    3.238333e+05     3.000000     1.750000   1460.000000  5.001000e+03   \n",
       "50%    4.610000e+05     3.000000     2.250000   1980.000000  7.683000e+03   \n",
       "75%    6.550000e+05     4.000000     2.500000   2620.000000  1.100375e+04   \n",
       "max    2.659000e+07     9.000000     8.000000  13540.000000  1.074218e+06   \n",
       "\n",
       "            floors   waterfront         view    condition   sqft_above  \\\n",
       "count  4598.000000  4595.000000  4598.000000  4600.000000  4597.000000   \n",
       "mean      1.511853     0.007182     0.240757     3.451739  1827.509463   \n",
       "std       0.537905     0.084449     0.778558     0.677230   862.138540   \n",
       "min       1.000000     0.000000     0.000000     1.000000   370.000000   \n",
       "25%       1.000000     0.000000     0.000000     3.000000  1190.000000   \n",
       "50%       1.500000     0.000000     0.000000     3.000000  1590.000000   \n",
       "75%       2.000000     0.000000     0.000000     4.000000  2300.000000   \n",
       "max       3.500000     1.000000     4.000000     5.000000  9410.000000   \n",
       "\n",
       "       sqft_basement     yr_built  yr_renovated  \n",
       "count    4597.000000  4594.000000   4600.000000  \n",
       "mean      312.122036  1970.799086    808.608261  \n",
       "std       464.228562    29.740666    979.414536  \n",
       "min         0.000000  1900.000000      0.000000  \n",
       "25%         0.000000  1951.000000      0.000000  \n",
       "50%         0.000000  1976.000000      0.000000  \n",
       "75%       610.000000  1997.000000   1999.000000  \n",
       "max      4820.000000  2014.000000   2014.000000  "
      ]
     },
     "execution_count": 237,
     "metadata": {},
     "output_type": "execute_result"
    }
   ],
   "source": [
    "df.describe()"
   ]
  },
  {
   "cell_type": "code",
   "execution_count": 238,
   "id": "05b5ab78",
   "metadata": {},
   "outputs": [
    {
     "name": "stdout",
     "output_type": "stream",
     "text": [
      "<class 'pandas.core.frame.DataFrame'>\n",
      "RangeIndex: 4600 entries, 0 to 4599\n",
      "Data columns (total 18 columns):\n",
      " #   Column         Non-Null Count  Dtype  \n",
      "---  ------         --------------  -----  \n",
      " 0   date           4600 non-null   object \n",
      " 1   price          4597 non-null   float64\n",
      " 2   bedrooms       4595 non-null   float64\n",
      " 3   bathrooms      4598 non-null   float64\n",
      " 4   sqft_living    4598 non-null   float64\n",
      " 5   sqft_lot       4598 non-null   float64\n",
      " 6   floors         4598 non-null   float64\n",
      " 7   waterfront     4595 non-null   float64\n",
      " 8   view           4598 non-null   float64\n",
      " 9   condition      4600 non-null   int64  \n",
      " 10  sqft_above     4597 non-null   float64\n",
      " 11  sqft_basement  4597 non-null   float64\n",
      " 12  yr_built       4594 non-null   float64\n",
      " 13  yr_renovated   4600 non-null   int64  \n",
      " 14  street         4597 non-null   object \n",
      " 15  city           4596 non-null   object \n",
      " 16  statezip       4597 non-null   object \n",
      " 17  country        4594 non-null   object \n",
      "dtypes: float64(11), int64(2), object(5)\n",
      "memory usage: 647.0+ KB\n"
     ]
    }
   ],
   "source": [
    "df.info()"
   ]
  },
  {
   "cell_type": "code",
   "execution_count": 239,
   "id": "ceab9fc5",
   "metadata": {},
   "outputs": [
    {
     "name": "stdout",
     "output_type": "stream",
     "text": [
      "-- Attributes in Data --\n",
      "date\n",
      "price\n",
      "bedrooms\n",
      "bathrooms\n",
      "sqft_living\n",
      "sqft_lot\n",
      "floors\n",
      "waterfront\n",
      "view\n",
      "condition\n",
      "sqft_above\n",
      "sqft_basement\n",
      "yr_built\n",
      "yr_renovated\n",
      "street\n",
      "city\n",
      "statezip\n",
      "country\n"
     ]
    }
   ],
   "source": [
    "print(\"-- Attributes in Data --\")\n",
    "for cols in df.columns:\n",
    "    print(cols)"
   ]
  },
  {
   "cell_type": "code",
   "execution_count": 240,
   "id": "52c0a109",
   "metadata": {},
   "outputs": [
    {
     "name": "stdout",
     "output_type": "stream",
     "text": [
      "-- Number of instances in Data --\n",
      "date             4600\n",
      "price            4597\n",
      "bedrooms         4595\n",
      "bathrooms        4598\n",
      "sqft_living      4598\n",
      "sqft_lot         4598\n",
      "floors           4598\n",
      "waterfront       4595\n",
      "view             4598\n",
      "condition        4600\n",
      "sqft_above       4597\n",
      "sqft_basement    4597\n",
      "yr_built         4594\n",
      "yr_renovated     4600\n",
      "street           4597\n",
      "city             4596\n",
      "statezip         4597\n",
      "country          4594\n",
      "dtype: int64\n"
     ]
    }
   ],
   "source": [
    "print(\"-- Number of instances in Data --\")\n",
    "print(df.count())"
   ]
  },
  {
   "cell_type": "code",
   "execution_count": 241,
   "id": "de3babcc",
   "metadata": {},
   "outputs": [
    {
     "data": {
      "text/plain": [
       "date             0\n",
       "price            3\n",
       "bedrooms         5\n",
       "bathrooms        2\n",
       "sqft_living      2\n",
       "sqft_lot         2\n",
       "floors           2\n",
       "waterfront       5\n",
       "view             2\n",
       "condition        0\n",
       "sqft_above       3\n",
       "sqft_basement    3\n",
       "yr_built         6\n",
       "yr_renovated     0\n",
       "street           3\n",
       "city             4\n",
       "statezip         3\n",
       "country          6\n",
       "dtype: int64"
      ]
     },
     "execution_count": 241,
     "metadata": {},
     "output_type": "execute_result"
    }
   ],
   "source": [
    "df.isnull().sum()"
   ]
  },
  {
   "cell_type": "code",
   "execution_count": 242,
   "id": "a643b84a",
   "metadata": {},
   "outputs": [],
   "source": [
    "df = df.drop('date', axis=1)"
   ]
  },
  {
   "cell_type": "code",
   "execution_count": 243,
   "id": "449eb406",
   "metadata": {},
   "outputs": [
    {
     "data": {
      "text/html": [
       "<div>\n",
       "<style scoped>\n",
       "    .dataframe tbody tr th:only-of-type {\n",
       "        vertical-align: middle;\n",
       "    }\n",
       "\n",
       "    .dataframe tbody tr th {\n",
       "        vertical-align: top;\n",
       "    }\n",
       "\n",
       "    .dataframe thead th {\n",
       "        text-align: right;\n",
       "    }\n",
       "</style>\n",
       "<table border=\"1\" class=\"dataframe\">\n",
       "  <thead>\n",
       "    <tr style=\"text-align: right;\">\n",
       "      <th></th>\n",
       "      <th>price</th>\n",
       "      <th>bedrooms</th>\n",
       "      <th>bathrooms</th>\n",
       "      <th>sqft_living</th>\n",
       "      <th>sqft_lot</th>\n",
       "      <th>floors</th>\n",
       "      <th>waterfront</th>\n",
       "      <th>view</th>\n",
       "      <th>condition</th>\n",
       "      <th>sqft_above</th>\n",
       "      <th>sqft_basement</th>\n",
       "      <th>yr_built</th>\n",
       "      <th>yr_renovated</th>\n",
       "      <th>street</th>\n",
       "      <th>city</th>\n",
       "      <th>statezip</th>\n",
       "      <th>country</th>\n",
       "    </tr>\n",
       "  </thead>\n",
       "  <tbody>\n",
       "    <tr>\n",
       "      <th>0</th>\n",
       "      <td>313000.0</td>\n",
       "      <td>3.0</td>\n",
       "      <td>1.5</td>\n",
       "      <td>1340.0</td>\n",
       "      <td>7912.0</td>\n",
       "      <td>1.5</td>\n",
       "      <td>0.0</td>\n",
       "      <td>0.0</td>\n",
       "      <td>3</td>\n",
       "      <td>1340.0</td>\n",
       "      <td>0.0</td>\n",
       "      <td>1955.0</td>\n",
       "      <td>2005</td>\n",
       "      <td>18810 Densmore Ave N</td>\n",
       "      <td>Shoreline</td>\n",
       "      <td>WA 98133</td>\n",
       "      <td>USA</td>\n",
       "    </tr>\n",
       "    <tr>\n",
       "      <th>1</th>\n",
       "      <td>2384000.0</td>\n",
       "      <td>5.0</td>\n",
       "      <td>2.5</td>\n",
       "      <td>3650.0</td>\n",
       "      <td>9050.0</td>\n",
       "      <td>2.0</td>\n",
       "      <td>0.0</td>\n",
       "      <td>4.0</td>\n",
       "      <td>5</td>\n",
       "      <td>3370.0</td>\n",
       "      <td>280.0</td>\n",
       "      <td>1921.0</td>\n",
       "      <td>0</td>\n",
       "      <td>709 W Blaine St</td>\n",
       "      <td>Seattle</td>\n",
       "      <td>WA 98119</td>\n",
       "      <td>USA</td>\n",
       "    </tr>\n",
       "  </tbody>\n",
       "</table>\n",
       "</div>"
      ],
      "text/plain": [
       "       price  bedrooms  bathrooms  sqft_living  sqft_lot  floors  waterfront  \\\n",
       "0   313000.0       3.0        1.5       1340.0    7912.0     1.5         0.0   \n",
       "1  2384000.0       5.0        2.5       3650.0    9050.0     2.0         0.0   \n",
       "\n",
       "   view  condition  sqft_above  sqft_basement  yr_built  yr_renovated  \\\n",
       "0   0.0          3      1340.0            0.0    1955.0          2005   \n",
       "1   4.0          5      3370.0          280.0    1921.0             0   \n",
       "\n",
       "                 street       city  statezip country  \n",
       "0  18810 Densmore Ave N  Shoreline  WA 98133     USA  \n",
       "1       709 W Blaine St    Seattle  WA 98119     USA  "
      ]
     },
     "execution_count": 243,
     "metadata": {},
     "output_type": "execute_result"
    }
   ],
   "source": [
    "df.head(2)"
   ]
  },
  {
   "cell_type": "code",
   "execution_count": 244,
   "id": "e893ba50",
   "metadata": {},
   "outputs": [
    {
     "name": "stdout",
     "output_type": "stream",
     "text": [
      "<class 'pandas.core.frame.DataFrame'>\n",
      "RangeIndex: 4600 entries, 0 to 4599\n",
      "Data columns (total 17 columns):\n",
      " #   Column         Non-Null Count  Dtype  \n",
      "---  ------         --------------  -----  \n",
      " 0   price          4597 non-null   float64\n",
      " 1   bedrooms       4595 non-null   float64\n",
      " 2   bathrooms      4598 non-null   float64\n",
      " 3   sqft_living    4598 non-null   float64\n",
      " 4   sqft_lot       4598 non-null   float64\n",
      " 5   floors         4598 non-null   float64\n",
      " 6   waterfront     4595 non-null   float64\n",
      " 7   view           4598 non-null   float64\n",
      " 8   condition      4600 non-null   int64  \n",
      " 9   sqft_above     4597 non-null   float64\n",
      " 10  sqft_basement  4597 non-null   float64\n",
      " 11  yr_built       4594 non-null   float64\n",
      " 12  yr_renovated   4600 non-null   int64  \n",
      " 13  street         4597 non-null   object \n",
      " 14  city           4596 non-null   object \n",
      " 15  statezip       4597 non-null   object \n",
      " 16  country        4594 non-null   object \n",
      "dtypes: float64(11), int64(2), object(4)\n",
      "memory usage: 611.1+ KB\n"
     ]
    }
   ],
   "source": [
    "df.info()"
   ]
  },
  {
   "cell_type": "code",
   "execution_count": 245,
   "id": "318f0723",
   "metadata": {},
   "outputs": [
    {
     "data": {
      "text/plain": [
       "'2520 Mulberry Walk NE'"
      ]
     },
     "execution_count": 245,
     "metadata": {},
     "output_type": "execute_result"
    }
   ],
   "source": [
    "df['street'].mode()[0]"
   ]
  },
  {
   "cell_type": "code",
   "execution_count": 246,
   "id": "05f78c2a",
   "metadata": {},
   "outputs": [],
   "source": [
    "def fillNaObjMode(cols):\n",
    "    for i in cols:\n",
    "        df[i] = df[i].fillna(df[i].mode()[0])\n",
    "\n",
    "columns = ['street','city','statezip','country']\n",
    "fillNaObjMode(columns)"
   ]
  },
  {
   "cell_type": "code",
   "execution_count": 247,
   "id": "e1fd341b",
   "metadata": {},
   "outputs": [],
   "source": [
    "def fillNaIntMode(cols):\n",
    "    for i in cols:\n",
    "        df[i] = df[i].fillna(df[i].mode()[0])\n",
    "\n",
    "columns = ['bedrooms','bathrooms','floors','waterfront','view','yr_built']\n",
    "fillNaIntMode(columns)"
   ]
  },
  {
   "cell_type": "code",
   "execution_count": 248,
   "id": "0507b6e8",
   "metadata": {},
   "outputs": [],
   "source": [
    "def fillNaFloat(cols):\n",
    "    for i in cols:\n",
    "        df[i] = df[i].fillna(df[i].mean())\n",
    "\n",
    "columns = ['price','sqft_living','sqft_lot','sqft_above','sqft_basement']\n",
    "fillNaFloat(columns)"
   ]
  },
  {
   "cell_type": "code",
   "execution_count": 249,
   "id": "8060fcdf",
   "metadata": {},
   "outputs": [
    {
     "name": "stdout",
     "output_type": "stream",
     "text": [
      "<class 'pandas.core.frame.DataFrame'>\n",
      "RangeIndex: 4600 entries, 0 to 4599\n",
      "Data columns (total 17 columns):\n",
      " #   Column         Non-Null Count  Dtype  \n",
      "---  ------         --------------  -----  \n",
      " 0   price          4600 non-null   float64\n",
      " 1   bedrooms       4600 non-null   float64\n",
      " 2   bathrooms      4600 non-null   float64\n",
      " 3   sqft_living    4600 non-null   float64\n",
      " 4   sqft_lot       4600 non-null   float64\n",
      " 5   floors         4600 non-null   float64\n",
      " 6   waterfront     4600 non-null   float64\n",
      " 7   view           4600 non-null   float64\n",
      " 8   condition      4600 non-null   int64  \n",
      " 9   sqft_above     4600 non-null   float64\n",
      " 10  sqft_basement  4600 non-null   float64\n",
      " 11  yr_built       4600 non-null   float64\n",
      " 12  yr_renovated   4600 non-null   int64  \n",
      " 13  street         4600 non-null   object \n",
      " 14  city           4600 non-null   object \n",
      " 15  statezip       4600 non-null   object \n",
      " 16  country        4600 non-null   object \n",
      "dtypes: float64(11), int64(2), object(4)\n",
      "memory usage: 611.1+ KB\n"
     ]
    }
   ],
   "source": [
    "df.info()"
   ]
  },
  {
   "cell_type": "code",
   "execution_count": 250,
   "id": "15a82331",
   "metadata": {},
   "outputs": [],
   "source": [
    "def convertFloatintoInt(cols):\n",
    "    for i in cols:\n",
    "        df[i] = df[i].astype('int64')\n",
    "\n",
    "columns = ['bedrooms','bathrooms','floors','waterfront','view','yr_built','price','sqft_living','sqft_lot','sqft_above','sqft_basement']\n",
    "convertFloatintoInt(columns)"
   ]
  },
  {
   "cell_type": "code",
   "execution_count": 251,
   "id": "f8fb5253",
   "metadata": {},
   "outputs": [
    {
     "name": "stdout",
     "output_type": "stream",
     "text": [
      "<class 'pandas.core.frame.DataFrame'>\n",
      "RangeIndex: 4600 entries, 0 to 4599\n",
      "Data columns (total 17 columns):\n",
      " #   Column         Non-Null Count  Dtype \n",
      "---  ------         --------------  ----- \n",
      " 0   price          4600 non-null   int64 \n",
      " 1   bedrooms       4600 non-null   int64 \n",
      " 2   bathrooms      4600 non-null   int64 \n",
      " 3   sqft_living    4600 non-null   int64 \n",
      " 4   sqft_lot       4600 non-null   int64 \n",
      " 5   floors         4600 non-null   int64 \n",
      " 6   waterfront     4600 non-null   int64 \n",
      " 7   view           4600 non-null   int64 \n",
      " 8   condition      4600 non-null   int64 \n",
      " 9   sqft_above     4600 non-null   int64 \n",
      " 10  sqft_basement  4600 non-null   int64 \n",
      " 11  yr_built       4600 non-null   int64 \n",
      " 12  yr_renovated   4600 non-null   int64 \n",
      " 13  street         4600 non-null   object\n",
      " 14  city           4600 non-null   object\n",
      " 15  statezip       4600 non-null   object\n",
      " 16  country        4600 non-null   object\n",
      "dtypes: int64(13), object(4)\n",
      "memory usage: 611.1+ KB\n"
     ]
    }
   ],
   "source": [
    "df.info()"
   ]
  },
  {
   "cell_type": "code",
   "execution_count": 252,
   "id": "f64f5e2f",
   "metadata": {},
   "outputs": [
    {
     "data": {
      "text/plain": [
       "4522"
      ]
     },
     "execution_count": 252,
     "metadata": {},
     "output_type": "execute_result"
    }
   ],
   "source": [
    "df['street'].nunique()"
   ]
  },
  {
   "cell_type": "code",
   "execution_count": 253,
   "id": "fdca93de",
   "metadata": {},
   "outputs": [
    {
     "data": {
      "text/plain": [
       "1"
      ]
     },
     "execution_count": 253,
     "metadata": {},
     "output_type": "execute_result"
    }
   ],
   "source": [
    "df['country'].nunique()"
   ]
  },
  {
   "cell_type": "code",
   "execution_count": 254,
   "id": "e76cd489",
   "metadata": {},
   "outputs": [
    {
     "data": {
      "text/plain": [
       "44"
      ]
     },
     "execution_count": 254,
     "metadata": {},
     "output_type": "execute_result"
    }
   ],
   "source": [
    "df['city'].nunique()"
   ]
  },
  {
   "cell_type": "code",
   "execution_count": 255,
   "id": "44ab716d",
   "metadata": {},
   "outputs": [
    {
     "data": {
      "text/plain": [
       "77"
      ]
     },
     "execution_count": 255,
     "metadata": {},
     "output_type": "execute_result"
    }
   ],
   "source": [
    "df['statezip'].nunique()"
   ]
  },
  {
   "cell_type": "code",
   "execution_count": 256,
   "id": "e4110f63",
   "metadata": {},
   "outputs": [],
   "source": [
    "df = df.drop('city',axis=1)\n",
    "df = df.drop('statezip',axis=1)\n",
    "df = df.drop('street',axis = 1)\n",
    "df = df.drop('yr_renovated',axis=1)"
   ]
  },
  {
   "cell_type": "code",
   "execution_count": 257,
   "id": "7c73cf12",
   "metadata": {},
   "outputs": [
    {
     "name": "stdout",
     "output_type": "stream",
     "text": [
      "<class 'pandas.core.frame.DataFrame'>\n",
      "RangeIndex: 4600 entries, 0 to 4599\n",
      "Data columns (total 13 columns):\n",
      " #   Column         Non-Null Count  Dtype \n",
      "---  ------         --------------  ----- \n",
      " 0   price          4600 non-null   int64 \n",
      " 1   bedrooms       4600 non-null   int64 \n",
      " 2   bathrooms      4600 non-null   int64 \n",
      " 3   sqft_living    4600 non-null   int64 \n",
      " 4   sqft_lot       4600 non-null   int64 \n",
      " 5   floors         4600 non-null   int64 \n",
      " 6   waterfront     4600 non-null   int64 \n",
      " 7   view           4600 non-null   int64 \n",
      " 8   condition      4600 non-null   int64 \n",
      " 9   sqft_above     4600 non-null   int64 \n",
      " 10  sqft_basement  4600 non-null   int64 \n",
      " 11  yr_built       4600 non-null   int64 \n",
      " 12  country        4600 non-null   object\n",
      "dtypes: int64(12), object(1)\n",
      "memory usage: 467.3+ KB\n"
     ]
    }
   ],
   "source": [
    "df.info()"
   ]
  },
  {
   "cell_type": "code",
   "execution_count": 258,
   "id": "4fcd93b3",
   "metadata": {},
   "outputs": [],
   "source": [
    "def dataEncoder(cols):\n",
    "    for i in cols:\n",
    "        dataLabelEncoder = LabelEncoder()\n",
    "        df[i] = dataLabelEncoder.fit_transform(df[i])\n",
    "\n",
    "columns = ['country']\n",
    "dataEncoder(columns)"
   ]
  },
  {
   "cell_type": "code",
   "execution_count": 259,
   "id": "00d72b0b",
   "metadata": {},
   "outputs": [
    {
     "name": "stdout",
     "output_type": "stream",
     "text": [
      "<class 'pandas.core.frame.DataFrame'>\n",
      "RangeIndex: 4600 entries, 0 to 4599\n",
      "Data columns (total 13 columns):\n",
      " #   Column         Non-Null Count  Dtype\n",
      "---  ------         --------------  -----\n",
      " 0   price          4600 non-null   int64\n",
      " 1   bedrooms       4600 non-null   int64\n",
      " 2   bathrooms      4600 non-null   int64\n",
      " 3   sqft_living    4600 non-null   int64\n",
      " 4   sqft_lot       4600 non-null   int64\n",
      " 5   floors         4600 non-null   int64\n",
      " 6   waterfront     4600 non-null   int64\n",
      " 7   view           4600 non-null   int64\n",
      " 8   condition      4600 non-null   int64\n",
      " 9   sqft_above     4600 non-null   int64\n",
      " 10  sqft_basement  4600 non-null   int64\n",
      " 11  yr_built       4600 non-null   int64\n",
      " 12  country        4600 non-null   int32\n",
      "dtypes: int32(1), int64(12)\n",
      "memory usage: 449.3 KB\n"
     ]
    }
   ],
   "source": [
    "df.info()"
   ]
  },
  {
   "cell_type": "code",
   "execution_count": 260,
   "id": "79730aa9",
   "metadata": {},
   "outputs": [],
   "source": [
    "df = df.drop('view',axis =1)"
   ]
  },
  {
   "cell_type": "code",
   "execution_count": 261,
   "id": "a4bef4ea",
   "metadata": {},
   "outputs": [],
   "source": [
    "df = df.drop('country',axis=1)"
   ]
  },
  {
   "cell_type": "code",
   "execution_count": 262,
   "id": "d5239d72",
   "metadata": {},
   "outputs": [
    {
     "name": "stdout",
     "output_type": "stream",
     "text": [
      "<class 'pandas.core.frame.DataFrame'>\n",
      "RangeIndex: 4600 entries, 0 to 4599\n",
      "Data columns (total 11 columns):\n",
      " #   Column         Non-Null Count  Dtype\n",
      "---  ------         --------------  -----\n",
      " 0   price          4600 non-null   int64\n",
      " 1   bedrooms       4600 non-null   int64\n",
      " 2   bathrooms      4600 non-null   int64\n",
      " 3   sqft_living    4600 non-null   int64\n",
      " 4   sqft_lot       4600 non-null   int64\n",
      " 5   floors         4600 non-null   int64\n",
      " 6   waterfront     4600 non-null   int64\n",
      " 7   condition      4600 non-null   int64\n",
      " 8   sqft_above     4600 non-null   int64\n",
      " 9   sqft_basement  4600 non-null   int64\n",
      " 10  yr_built       4600 non-null   int64\n",
      "dtypes: int64(11)\n",
      "memory usage: 395.4 KB\n"
     ]
    }
   ],
   "source": [
    "df.info()"
   ]
  },
  {
   "cell_type": "code",
   "execution_count": 263,
   "id": "96499c67",
   "metadata": {},
   "outputs": [],
   "source": [
    "df = df.drop('condition',axis = 1)"
   ]
  },
  {
   "cell_type": "code",
   "execution_count": 264,
   "id": "3d2ceeab",
   "metadata": {},
   "outputs": [
    {
     "name": "stdout",
     "output_type": "stream",
     "text": [
      "<class 'pandas.core.frame.DataFrame'>\n",
      "RangeIndex: 4600 entries, 0 to 4599\n",
      "Data columns (total 10 columns):\n",
      " #   Column         Non-Null Count  Dtype\n",
      "---  ------         --------------  -----\n",
      " 0   price          4600 non-null   int64\n",
      " 1   bedrooms       4600 non-null   int64\n",
      " 2   bathrooms      4600 non-null   int64\n",
      " 3   sqft_living    4600 non-null   int64\n",
      " 4   sqft_lot       4600 non-null   int64\n",
      " 5   floors         4600 non-null   int64\n",
      " 6   waterfront     4600 non-null   int64\n",
      " 7   sqft_above     4600 non-null   int64\n",
      " 8   sqft_basement  4600 non-null   int64\n",
      " 9   yr_built       4600 non-null   int64\n",
      "dtypes: int64(10)\n",
      "memory usage: 359.5 KB\n"
     ]
    }
   ],
   "source": [
    "df.info()"
   ]
  },
  {
   "cell_type": "code",
   "execution_count": 265,
   "id": "442111b3",
   "metadata": {},
   "outputs": [
    {
     "data": {
      "text/html": [
       "<div>\n",
       "<style scoped>\n",
       "    .dataframe tbody tr th:only-of-type {\n",
       "        vertical-align: middle;\n",
       "    }\n",
       "\n",
       "    .dataframe tbody tr th {\n",
       "        vertical-align: top;\n",
       "    }\n",
       "\n",
       "    .dataframe thead th {\n",
       "        text-align: right;\n",
       "    }\n",
       "</style>\n",
       "<table border=\"1\" class=\"dataframe\">\n",
       "  <thead>\n",
       "    <tr style=\"text-align: right;\">\n",
       "      <th></th>\n",
       "      <th>price</th>\n",
       "      <th>bedrooms</th>\n",
       "      <th>bathrooms</th>\n",
       "      <th>sqft_living</th>\n",
       "      <th>sqft_lot</th>\n",
       "      <th>floors</th>\n",
       "      <th>waterfront</th>\n",
       "      <th>sqft_above</th>\n",
       "      <th>sqft_basement</th>\n",
       "      <th>yr_built</th>\n",
       "    </tr>\n",
       "  </thead>\n",
       "  <tbody>\n",
       "    <tr>\n",
       "      <th>0</th>\n",
       "      <td>313000</td>\n",
       "      <td>3</td>\n",
       "      <td>1</td>\n",
       "      <td>1340</td>\n",
       "      <td>7912</td>\n",
       "      <td>1</td>\n",
       "      <td>0</td>\n",
       "      <td>1340</td>\n",
       "      <td>0</td>\n",
       "      <td>1955</td>\n",
       "    </tr>\n",
       "    <tr>\n",
       "      <th>1</th>\n",
       "      <td>2384000</td>\n",
       "      <td>5</td>\n",
       "      <td>2</td>\n",
       "      <td>3650</td>\n",
       "      <td>9050</td>\n",
       "      <td>2</td>\n",
       "      <td>0</td>\n",
       "      <td>3370</td>\n",
       "      <td>280</td>\n",
       "      <td>1921</td>\n",
       "    </tr>\n",
       "  </tbody>\n",
       "</table>\n",
       "</div>"
      ],
      "text/plain": [
       "     price  bedrooms  bathrooms  sqft_living  sqft_lot  floors  waterfront  \\\n",
       "0   313000         3          1         1340      7912       1           0   \n",
       "1  2384000         5          2         3650      9050       2           0   \n",
       "\n",
       "   sqft_above  sqft_basement  yr_built  \n",
       "0        1340              0      1955  \n",
       "1        3370            280      1921  "
      ]
     },
     "execution_count": 265,
     "metadata": {},
     "output_type": "execute_result"
    }
   ],
   "source": [
    "df.head(2)"
   ]
  },
  {
   "cell_type": "code",
   "execution_count": 266,
   "id": "a987c3e0",
   "metadata": {},
   "outputs": [],
   "source": [
    "df.to_csv(r'encoded-data.csv', index = False, header = True)"
   ]
  },
  {
   "cell_type": "code",
   "execution_count": 267,
   "id": "a18459db",
   "metadata": {},
   "outputs": [],
   "source": [
    "trainData, testData = train_test_split(df, test_size=0.1, shuffle=False)"
   ]
  },
  {
   "cell_type": "code",
   "execution_count": 268,
   "id": "080fcf37",
   "metadata": {},
   "outputs": [
    {
     "data": {
      "text/plain": [
       "(4140, 10)"
      ]
     },
     "execution_count": 268,
     "metadata": {},
     "output_type": "execute_result"
    }
   ],
   "source": [
    "trainData.shape"
   ]
  },
  {
   "cell_type": "code",
   "execution_count": 269,
   "id": "1d286012",
   "metadata": {},
   "outputs": [
    {
     "data": {
      "text/plain": [
       "(460, 10)"
      ]
     },
     "execution_count": 269,
     "metadata": {},
     "output_type": "execute_result"
    }
   ],
   "source": [
    "testData.shape"
   ]
  },
  {
   "cell_type": "code",
   "execution_count": 270,
   "id": "36e21a5c",
   "metadata": {},
   "outputs": [],
   "source": [
    "train_x = trainData.iloc()[:, 1:]\n",
    "test_x  = testData.iloc()[:, 1:]\n",
    "\n",
    "train_y = trainData.iloc()[:, 0]\n",
    "test_y  = testData.iloc()[:, 0]"
   ]
  },
  {
   "cell_type": "code",
   "execution_count": 271,
   "id": "2f07d51c",
   "metadata": {},
   "outputs": [
    {
     "data": {
      "text/html": [
       "<div>\n",
       "<style scoped>\n",
       "    .dataframe tbody tr th:only-of-type {\n",
       "        vertical-align: middle;\n",
       "    }\n",
       "\n",
       "    .dataframe tbody tr th {\n",
       "        vertical-align: top;\n",
       "    }\n",
       "\n",
       "    .dataframe thead th {\n",
       "        text-align: right;\n",
       "    }\n",
       "</style>\n",
       "<table border=\"1\" class=\"dataframe\">\n",
       "  <thead>\n",
       "    <tr style=\"text-align: right;\">\n",
       "      <th></th>\n",
       "      <th>bedrooms</th>\n",
       "      <th>bathrooms</th>\n",
       "      <th>sqft_living</th>\n",
       "      <th>sqft_lot</th>\n",
       "      <th>floors</th>\n",
       "      <th>waterfront</th>\n",
       "      <th>sqft_above</th>\n",
       "      <th>sqft_basement</th>\n",
       "      <th>yr_built</th>\n",
       "    </tr>\n",
       "  </thead>\n",
       "  <tbody>\n",
       "    <tr>\n",
       "      <th>0</th>\n",
       "      <td>3</td>\n",
       "      <td>1</td>\n",
       "      <td>1340</td>\n",
       "      <td>7912</td>\n",
       "      <td>1</td>\n",
       "      <td>0</td>\n",
       "      <td>1340</td>\n",
       "      <td>0</td>\n",
       "      <td>1955</td>\n",
       "    </tr>\n",
       "    <tr>\n",
       "      <th>1</th>\n",
       "      <td>5</td>\n",
       "      <td>2</td>\n",
       "      <td>3650</td>\n",
       "      <td>9050</td>\n",
       "      <td>2</td>\n",
       "      <td>0</td>\n",
       "      <td>3370</td>\n",
       "      <td>280</td>\n",
       "      <td>1921</td>\n",
       "    </tr>\n",
       "  </tbody>\n",
       "</table>\n",
       "</div>"
      ],
      "text/plain": [
       "   bedrooms  bathrooms  sqft_living  sqft_lot  floors  waterfront  sqft_above  \\\n",
       "0         3          1         1340      7912       1           0        1340   \n",
       "1         5          2         3650      9050       2           0        3370   \n",
       "\n",
       "   sqft_basement  yr_built  \n",
       "0              0      1955  \n",
       "1            280      1921  "
      ]
     },
     "execution_count": 271,
     "metadata": {},
     "output_type": "execute_result"
    }
   ],
   "source": [
    "train_x.head(2)"
   ]
  },
  {
   "cell_type": "code",
   "execution_count": 272,
   "id": "b2408b7d",
   "metadata": {},
   "outputs": [
    {
     "data": {
      "text/plain": [
       "0     313000\n",
       "1    2384000\n",
       "Name: price, dtype: int64"
      ]
     },
     "execution_count": 272,
     "metadata": {},
     "output_type": "execute_result"
    }
   ],
   "source": [
    "train_y.head(2)"
   ]
  },
  {
   "cell_type": "code",
   "execution_count": 273,
   "id": "313da3c6",
   "metadata": {},
   "outputs": [
    {
     "data": {
      "text/html": [
       "<div>\n",
       "<style scoped>\n",
       "    .dataframe tbody tr th:only-of-type {\n",
       "        vertical-align: middle;\n",
       "    }\n",
       "\n",
       "    .dataframe tbody tr th {\n",
       "        vertical-align: top;\n",
       "    }\n",
       "\n",
       "    .dataframe thead th {\n",
       "        text-align: right;\n",
       "    }\n",
       "</style>\n",
       "<table border=\"1\" class=\"dataframe\">\n",
       "  <thead>\n",
       "    <tr style=\"text-align: right;\">\n",
       "      <th></th>\n",
       "      <th>bedrooms</th>\n",
       "      <th>bathrooms</th>\n",
       "      <th>sqft_living</th>\n",
       "      <th>sqft_lot</th>\n",
       "      <th>floors</th>\n",
       "      <th>waterfront</th>\n",
       "      <th>sqft_above</th>\n",
       "      <th>sqft_basement</th>\n",
       "      <th>yr_built</th>\n",
       "    </tr>\n",
       "  </thead>\n",
       "  <tbody>\n",
       "    <tr>\n",
       "      <th>4140</th>\n",
       "      <td>2</td>\n",
       "      <td>1</td>\n",
       "      <td>1920</td>\n",
       "      <td>3408</td>\n",
       "      <td>1</td>\n",
       "      <td>0</td>\n",
       "      <td>960</td>\n",
       "      <td>960</td>\n",
       "      <td>1912</td>\n",
       "    </tr>\n",
       "    <tr>\n",
       "      <th>4141</th>\n",
       "      <td>4</td>\n",
       "      <td>2</td>\n",
       "      <td>2530</td>\n",
       "      <td>14178</td>\n",
       "      <td>2</td>\n",
       "      <td>0</td>\n",
       "      <td>2530</td>\n",
       "      <td>0</td>\n",
       "      <td>1997</td>\n",
       "    </tr>\n",
       "  </tbody>\n",
       "</table>\n",
       "</div>"
      ],
      "text/plain": [
       "      bedrooms  bathrooms  sqft_living  sqft_lot  floors  waterfront  \\\n",
       "4140         2          1         1920      3408       1           0   \n",
       "4141         4          2         2530     14178       2           0   \n",
       "\n",
       "      sqft_above  sqft_basement  yr_built  \n",
       "4140         960            960      1912  \n",
       "4141        2530              0      1997  "
      ]
     },
     "execution_count": 273,
     "metadata": {},
     "output_type": "execute_result"
    }
   ],
   "source": [
    "test_x.head(2)"
   ]
  },
  {
   "cell_type": "code",
   "execution_count": 274,
   "id": "112cf28e",
   "metadata": {},
   "outputs": [
    {
     "data": {
      "text/plain": [
       "4140    517000\n",
       "4141    469950\n",
       "Name: price, dtype: int64"
      ]
     },
     "execution_count": 274,
     "metadata": {},
     "output_type": "execute_result"
    }
   ],
   "source": [
    "test_y.head(2)"
   ]
  },
  {
   "cell_type": "code",
   "execution_count": 275,
   "id": "189b964c",
   "metadata": {},
   "outputs": [
    {
     "name": "stdout",
     "output_type": "stream",
     "text": [
      "SVC()\n"
     ]
    }
   ],
   "source": [
    "\n",
    "model_svc = SVC()\n",
    "model_svc.fit(train_x, train_y)\n",
    "\n",
    "print(model_svc)"
   ]
  },
  {
   "cell_type": "code",
   "execution_count": 276,
   "id": "4f6c5a15",
   "metadata": {},
   "outputs": [],
   "source": [
    "pickle.dump(model_svc, open('model_svc.pkl', 'wb'))"
   ]
  },
  {
   "cell_type": "code",
   "execution_count": 277,
   "id": "92cf96d1",
   "metadata": {},
   "outputs": [],
   "source": [
    "model_svc = pickle.load(open('model_svc.pkl', 'rb'))"
   ]
  },
  {
   "cell_type": "code",
   "execution_count": 278,
   "id": "04346d84",
   "metadata": {},
   "outputs": [],
   "source": [
    "model_predictions = model_svc.predict(test_x)"
   ]
  },
  {
   "cell_type": "code",
   "execution_count": 280,
   "id": "c15967b3",
   "metadata": {},
   "outputs": [
    {
     "name": "stdout",
     "output_type": "stream",
     "text": [
      "-- Model Accuracy Score: 0.01\n"
     ]
    }
   ],
   "source": [
    "model_accuracy_score = accuracy_score(test_y, model_predictions)\n",
    "\n",
    "print(\"-- Model Accuracy Score: \", end='')\n",
    "print(round(model_accuracy_score,2))"
   ]
  },
  {
   "cell_type": "code",
   "execution_count": null,
   "id": "2188ef02",
   "metadata": {},
   "outputs": [],
   "source": []
  }
 ],
 "metadata": {
  "kernelspec": {
   "display_name": "Python 3 (ipykernel)",
   "language": "python",
   "name": "python3"
  },
  "language_info": {
   "codemirror_mode": {
    "name": "ipython",
    "version": 3
   },
   "file_extension": ".py",
   "mimetype": "text/x-python",
   "name": "python",
   "nbconvert_exporter": "python",
   "pygments_lexer": "ipython3",
   "version": "3.11.5"
  }
 },
 "nbformat": 4,
 "nbformat_minor": 5
}
