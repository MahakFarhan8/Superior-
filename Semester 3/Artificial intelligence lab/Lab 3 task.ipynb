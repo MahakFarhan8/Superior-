{
 "cells": [
  {
   "cell_type": "code",
   "execution_count": 10,
   "id": "c6c886e1",
   "metadata": {},
   "outputs": [],
   "source": [
    "class ModelBaseAgent:\n",
    "    def __init__(self, desired_temp,current_temp,previous_temp):\n",
    "        self.desired_temp = 22\n",
    "        self.current_temp = current_temp\n",
    "        self.previous_temp = previous_temp \n",
    "    \n",
    "    def percept(self, temp):\n",
    "        self.previous_temp = self.current_temp\n",
    "        self.current_temp = temp\n",
    "    \n",
    "    def actuators(self):\n",
    "        if self.current_temp > self.desired_temp:\n",
    "            return \"Turn off the heater\"\n",
    "        elif self.current_temp < self.desired_temp:\n",
    "                return \"Keep the heater on\"\n",
    "        else:\n",
    "            return \"Temperature is not given\""
   ]
  },
  {
   "cell_type": "code",
   "execution_count": 11,
   "id": "6984cee7",
   "metadata": {},
   "outputs": [
    {
     "data": {
      "text/plain": [
       "'Keep the heater on'"
      ]
     },
     "execution_count": 11,
     "metadata": {},
     "output_type": "execute_result"
    }
   ],
   "source": [
    "agent=ModelBaseAgent(22,27,28)\n",
    "agent.percept(16)\n",
    "agent.actuators()"
   ]
  },
  {
   "cell_type": "code",
   "execution_count": 12,
   "id": "19e56670",
   "metadata": {},
   "outputs": [],
   "source": [
    "rooms = {\n",
    "    \"Living Room\" : 28,\n",
    "    \"BedRoom\" : 18,\n",
    "    \"Kitchen\" : 32\n",
    "}"
   ]
  },
  {
   "cell_type": "code",
   "execution_count": 13,
   "id": "a9220481",
   "metadata": {},
   "outputs": [
    {
     "name": "stdout",
     "output_type": "stream",
     "text": [
      "Living Room: 28 -> Turn off the heater\n",
      "BedRoom: 18 -> Keep the heater on\n",
      "Kitchen: 32 -> Turn off the heater\n"
     ]
    }
   ],
   "source": [
    "for room, temp in rooms.items():\n",
    "    agent.percept(temp)\n",
    "    print(f\"{room}: {temp} -> {agent.actuators()}\")"
   ]
  },
  {
   "cell_type": "code",
   "execution_count": null,
   "id": "5ac1f958",
   "metadata": {},
   "outputs": [],
   "source": []
  }
 ],
 "metadata": {
  "kernelspec": {
   "display_name": "Python 3 (ipykernel)",
   "language": "python",
   "name": "python3"
  },
  "language_info": {
   "codemirror_mode": {
    "name": "ipython",
    "version": 3
   },
   "file_extension": ".py",
   "mimetype": "text/x-python",
   "name": "python",
   "nbconvert_exporter": "python",
   "pygments_lexer": "ipython3",
   "version": "3.11.5"
  }
 },
 "nbformat": 4,
 "nbformat_minor": 5
}
