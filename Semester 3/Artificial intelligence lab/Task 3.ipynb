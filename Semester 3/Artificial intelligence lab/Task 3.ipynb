{
 "cells": [
  {
   "cell_type": "code",
   "execution_count": 15,
   "id": "184b50fc",
   "metadata": {},
   "outputs": [],
   "source": [
    "import pandas as pd"
   ]
  },
  {
   "cell_type": "code",
   "execution_count": 17,
   "id": "12e53f77",
   "metadata": {},
   "outputs": [
    {
     "name": "stdout",
     "output_type": "stream",
     "text": [
      "Do you want to add movie: yes\n",
      "How many movies you want to add: 1\n",
      "Enter the movie name: K3G\n",
      "Enter the movie budget: 230000000\n",
      "Average Budget: 195437500.0\n",
      "Number of movies budget that are above than average budget: 5\n",
      "Names of movies with high budget: \n",
      "Pirates of the Caribbean: On Stranger Tides\n",
      "Avengers: Age of Ultron\n",
      "Avengers: Endgame\n",
      "Incredibles 2\n",
      "K3G\n"
     ]
    }
   ],
   "source": [
    "movies = [\n",
    "    (\"Eternal Sunshine of the Spotless Mind\", 20000000),\n",
    "    (\"Memento\", 9000000),\n",
    "    (\"Requiem for a Dream\", 4500000),\n",
    "    (\"Pirates of the Caribbean: On Stranger Tides\", 379000000),\n",
    "    (\"Avengers: Age of Ultron\", 365000000),\n",
    "    (\"Avengers: Endgame\", 356000000),\n",
    "    (\"Incredibles 2\", 200000000)\n",
    "]\n",
    "\n",
    "movies = pd.DataFrame(movies,columns = [\"Movies\",\"Budget\"])\n",
    "\n",
    "add_movies = input(\"Do you want to add movie: \")\n",
    "if add_movies == \"yes\":\n",
    "    limit = int(input(\"How many movies you want to add: \"))\n",
    "    for i in range(limit):\n",
    "        name = input(\"Enter the movie name: \")\n",
    "        budget = int(input(\"Enter the movie budget: \"))\n",
    "        new_movie = pd.DataFrame({\"Movies\":[name],\"Budget\":[budget]})\n",
    "        movies = pd.concat([movies , new_movie])\n",
    "elif add_movies == \"no\":\n",
    "    print(\"No movies are added\")\n",
    "else:\n",
    "    print(\"Invalid input\")\n",
    "    \n",
    "average_budget = movies[\"Budget\"].mean()\n",
    "print(f\"Average Budget: {average_budget}\")\n",
    "    \n",
    "high_budget = movies[movies[\"Budget\"] > average_budget]\n",
    "print(f\"Number of movies budget that are above than average budget: {len(high_budget)}\")\n",
    "\n",
    "print(\"Names of movies with high budget: \")\n",
    "for movies in high_budget[\"Movies\"]:\n",
    "    print(movies)"
   ]
  },
  {
   "cell_type": "code",
   "execution_count": null,
   "id": "a83e3d54",
   "metadata": {},
   "outputs": [],
   "source": []
  },
  {
   "cell_type": "code",
   "execution_count": null,
   "id": "5410c969",
   "metadata": {},
   "outputs": [],
   "source": []
  }
 ],
 "metadata": {
  "kernelspec": {
   "display_name": "Python 3 (ipykernel)",
   "language": "python",
   "name": "python3"
  },
  "language_info": {
   "codemirror_mode": {
    "name": "ipython",
    "version": 3
   },
   "file_extension": ".py",
   "mimetype": "text/x-python",
   "name": "python",
   "nbconvert_exporter": "python",
   "pygments_lexer": "ipython3",
   "version": "3.11.5"
  }
 },
 "nbformat": 4,
 "nbformat_minor": 5
}
