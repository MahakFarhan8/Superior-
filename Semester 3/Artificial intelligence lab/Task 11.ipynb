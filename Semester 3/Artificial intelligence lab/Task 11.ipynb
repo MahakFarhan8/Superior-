{
 "cells": [
  {
   "cell_type": "code",
   "execution_count": 2,
   "id": "3695342b",
   "metadata": {},
   "outputs": [],
   "source": [
    "import pandas as pd\n",
    "import numpy as np\n",
    "import pickle\n",
    "\n",
    "from sklearn.svm import SVC\n",
    "from sklearn.metrics import accuracy_score\n",
    "from sklearn.preprocessing import LabelEncoder\n",
    "from sklearn.model_selection import train_test_split"
   ]
  },
  {
   "cell_type": "code",
   "execution_count": 3,
   "id": "c051553b",
   "metadata": {},
   "outputs": [
    {
     "data": {
      "text/html": [
       "<div>\n",
       "<style scoped>\n",
       "    .dataframe tbody tr th:only-of-type {\n",
       "        vertical-align: middle;\n",
       "    }\n",
       "\n",
       "    .dataframe tbody tr th {\n",
       "        vertical-align: top;\n",
       "    }\n",
       "\n",
       "    .dataframe thead th {\n",
       "        text-align: right;\n",
       "    }\n",
       "</style>\n",
       "<table border=\"1\" class=\"dataframe\">\n",
       "  <thead>\n",
       "    <tr style=\"text-align: right;\">\n",
       "      <th></th>\n",
       "      <th>date</th>\n",
       "      <th>home_team</th>\n",
       "      <th>away_team</th>\n",
       "      <th>home_score</th>\n",
       "      <th>away_score</th>\n",
       "      <th>tournament</th>\n",
       "      <th>city</th>\n",
       "      <th>country</th>\n",
       "      <th>neutral</th>\n",
       "    </tr>\n",
       "  </thead>\n",
       "  <tbody>\n",
       "    <tr>\n",
       "      <th>0</th>\n",
       "      <td>1872-11-30</td>\n",
       "      <td>Scotland</td>\n",
       "      <td>England</td>\n",
       "      <td>0</td>\n",
       "      <td>0</td>\n",
       "      <td>Friendly</td>\n",
       "      <td>Glasgow</td>\n",
       "      <td>Scotland</td>\n",
       "      <td>False</td>\n",
       "    </tr>\n",
       "    <tr>\n",
       "      <th>1</th>\n",
       "      <td>1873-03-08</td>\n",
       "      <td>England</td>\n",
       "      <td>Scotland</td>\n",
       "      <td>4</td>\n",
       "      <td>2</td>\n",
       "      <td>Friendly</td>\n",
       "      <td>London</td>\n",
       "      <td>England</td>\n",
       "      <td>False</td>\n",
       "    </tr>\n",
       "    <tr>\n",
       "      <th>2</th>\n",
       "      <td>1874-03-07</td>\n",
       "      <td>Scotland</td>\n",
       "      <td>England</td>\n",
       "      <td>2</td>\n",
       "      <td>1</td>\n",
       "      <td>Friendly</td>\n",
       "      <td>Glasgow</td>\n",
       "      <td>Scotland</td>\n",
       "      <td>False</td>\n",
       "    </tr>\n",
       "    <tr>\n",
       "      <th>3</th>\n",
       "      <td>1875-03-06</td>\n",
       "      <td>England</td>\n",
       "      <td>Scotland</td>\n",
       "      <td>2</td>\n",
       "      <td>2</td>\n",
       "      <td>Friendly</td>\n",
       "      <td>London</td>\n",
       "      <td>England</td>\n",
       "      <td>False</td>\n",
       "    </tr>\n",
       "    <tr>\n",
       "      <th>4</th>\n",
       "      <td>1876-03-04</td>\n",
       "      <td>Scotland</td>\n",
       "      <td>England</td>\n",
       "      <td>3</td>\n",
       "      <td>0</td>\n",
       "      <td>Friendly</td>\n",
       "      <td>Glasgow</td>\n",
       "      <td>Scotland</td>\n",
       "      <td>False</td>\n",
       "    </tr>\n",
       "    <tr>\n",
       "      <th>...</th>\n",
       "      <td>...</td>\n",
       "      <td>...</td>\n",
       "      <td>...</td>\n",
       "      <td>...</td>\n",
       "      <td>...</td>\n",
       "      <td>...</td>\n",
       "      <td>...</td>\n",
       "      <td>...</td>\n",
       "      <td>...</td>\n",
       "    </tr>\n",
       "    <tr>\n",
       "      <th>47772</th>\n",
       "      <td>2024-10-15</td>\n",
       "      <td>Palestine</td>\n",
       "      <td>Kuwait</td>\n",
       "      <td>2</td>\n",
       "      <td>2</td>\n",
       "      <td>FIFA World Cup qualification</td>\n",
       "      <td>Al Rayyan</td>\n",
       "      <td>Qatar</td>\n",
       "      <td>True</td>\n",
       "    </tr>\n",
       "    <tr>\n",
       "      <th>47773</th>\n",
       "      <td>2024-10-15</td>\n",
       "      <td>South Korea</td>\n",
       "      <td>Iraq</td>\n",
       "      <td>3</td>\n",
       "      <td>2</td>\n",
       "      <td>FIFA World Cup qualification</td>\n",
       "      <td>Yongin</td>\n",
       "      <td>South Korea</td>\n",
       "      <td>False</td>\n",
       "    </tr>\n",
       "    <tr>\n",
       "      <th>47774</th>\n",
       "      <td>2024-10-15</td>\n",
       "      <td>Japan</td>\n",
       "      <td>Australia</td>\n",
       "      <td>1</td>\n",
       "      <td>1</td>\n",
       "      <td>FIFA World Cup qualification</td>\n",
       "      <td>Saitama</td>\n",
       "      <td>Japan</td>\n",
       "      <td>False</td>\n",
       "    </tr>\n",
       "    <tr>\n",
       "      <th>47775</th>\n",
       "      <td>2024-10-15</td>\n",
       "      <td>China PR</td>\n",
       "      <td>Indonesia</td>\n",
       "      <td>2</td>\n",
       "      <td>1</td>\n",
       "      <td>FIFA World Cup qualification</td>\n",
       "      <td>Qingdao</td>\n",
       "      <td>China PR</td>\n",
       "      <td>False</td>\n",
       "    </tr>\n",
       "    <tr>\n",
       "      <th>47776</th>\n",
       "      <td>2024-10-15</td>\n",
       "      <td>Saudi Arabia</td>\n",
       "      <td>Bahrain</td>\n",
       "      <td>0</td>\n",
       "      <td>0</td>\n",
       "      <td>FIFA World Cup qualification</td>\n",
       "      <td>Jeddah</td>\n",
       "      <td>Saudi Arabia</td>\n",
       "      <td>False</td>\n",
       "    </tr>\n",
       "  </tbody>\n",
       "</table>\n",
       "<p>47777 rows × 9 columns</p>\n",
       "</div>"
      ],
      "text/plain": [
       "             date     home_team  away_team  home_score  away_score  \\\n",
       "0      1872-11-30      Scotland    England           0           0   \n",
       "1      1873-03-08       England   Scotland           4           2   \n",
       "2      1874-03-07      Scotland    England           2           1   \n",
       "3      1875-03-06       England   Scotland           2           2   \n",
       "4      1876-03-04      Scotland    England           3           0   \n",
       "...           ...           ...        ...         ...         ...   \n",
       "47772  2024-10-15     Palestine     Kuwait           2           2   \n",
       "47773  2024-10-15   South Korea       Iraq           3           2   \n",
       "47774  2024-10-15         Japan  Australia           1           1   \n",
       "47775  2024-10-15      China PR  Indonesia           2           1   \n",
       "47776  2024-10-15  Saudi Arabia    Bahrain           0           0   \n",
       "\n",
       "                         tournament       city       country  neutral  \n",
       "0                          Friendly    Glasgow      Scotland    False  \n",
       "1                          Friendly     London       England    False  \n",
       "2                          Friendly    Glasgow      Scotland    False  \n",
       "3                          Friendly     London       England    False  \n",
       "4                          Friendly    Glasgow      Scotland    False  \n",
       "...                             ...        ...           ...      ...  \n",
       "47772  FIFA World Cup qualification  Al Rayyan         Qatar     True  \n",
       "47773  FIFA World Cup qualification     Yongin   South Korea    False  \n",
       "47774  FIFA World Cup qualification    Saitama         Japan    False  \n",
       "47775  FIFA World Cup qualification    Qingdao      China PR    False  \n",
       "47776  FIFA World Cup qualification     Jeddah  Saudi Arabia    False  \n",
       "\n",
       "[47777 rows x 9 columns]"
      ]
     },
     "execution_count": 3,
     "metadata": {},
     "output_type": "execute_result"
    }
   ],
   "source": [
    "df = pd.read_csv(\"results.csv\")\n",
    "df"
   ]
  },
  {
   "cell_type": "code",
   "execution_count": 4,
   "id": "9fa372e1",
   "metadata": {},
   "outputs": [
    {
     "name": "stdout",
     "output_type": "stream",
     "text": [
      "Number of rows: 47777\n",
      "Number of columns: 9\n"
     ]
    }
   ],
   "source": [
    "print(f\"Number of rows: {df.shape[0]}\\nNumber of columns: {df.shape[1]}\")"
   ]
  },
  {
   "cell_type": "code",
   "execution_count": 5,
   "id": "5c4235d9",
   "metadata": {},
   "outputs": [
    {
     "data": {
      "text/plain": [
       "date          47777\n",
       "home_team     47777\n",
       "away_team     47777\n",
       "home_score    47777\n",
       "away_score    47777\n",
       "tournament    47777\n",
       "city          47777\n",
       "country       47777\n",
       "neutral       47777\n",
       "dtype: int64"
      ]
     },
     "execution_count": 5,
     "metadata": {},
     "output_type": "execute_result"
    }
   ],
   "source": [
    "df.count()"
   ]
  },
  {
   "cell_type": "code",
   "execution_count": 6,
   "id": "5e2d778a",
   "metadata": {},
   "outputs": [
    {
     "data": {
      "text/plain": [
       "date          0\n",
       "home_team     0\n",
       "away_team     0\n",
       "home_score    0\n",
       "away_score    0\n",
       "tournament    0\n",
       "city          0\n",
       "country       0\n",
       "neutral       0\n",
       "dtype: int64"
      ]
     },
     "execution_count": 6,
     "metadata": {},
     "output_type": "execute_result"
    }
   ],
   "source": [
    "df.isnull().sum()"
   ]
  },
  {
   "cell_type": "code",
   "execution_count": 7,
   "id": "cb338ff8",
   "metadata": {},
   "outputs": [
    {
     "data": {
      "text/html": [
       "<div>\n",
       "<style scoped>\n",
       "    .dataframe tbody tr th:only-of-type {\n",
       "        vertical-align: middle;\n",
       "    }\n",
       "\n",
       "    .dataframe tbody tr th {\n",
       "        vertical-align: top;\n",
       "    }\n",
       "\n",
       "    .dataframe thead th {\n",
       "        text-align: right;\n",
       "    }\n",
       "</style>\n",
       "<table border=\"1\" class=\"dataframe\">\n",
       "  <thead>\n",
       "    <tr style=\"text-align: right;\">\n",
       "      <th></th>\n",
       "      <th>home_score</th>\n",
       "      <th>away_score</th>\n",
       "    </tr>\n",
       "  </thead>\n",
       "  <tbody>\n",
       "    <tr>\n",
       "      <th>count</th>\n",
       "      <td>47777.000000</td>\n",
       "      <td>47777.000000</td>\n",
       "    </tr>\n",
       "    <tr>\n",
       "      <th>mean</th>\n",
       "      <td>1.757896</td>\n",
       "      <td>1.181636</td>\n",
       "    </tr>\n",
       "    <tr>\n",
       "      <th>std</th>\n",
       "      <td>1.772524</td>\n",
       "      <td>1.399827</td>\n",
       "    </tr>\n",
       "    <tr>\n",
       "      <th>min</th>\n",
       "      <td>0.000000</td>\n",
       "      <td>0.000000</td>\n",
       "    </tr>\n",
       "    <tr>\n",
       "      <th>25%</th>\n",
       "      <td>1.000000</td>\n",
       "      <td>0.000000</td>\n",
       "    </tr>\n",
       "    <tr>\n",
       "      <th>50%</th>\n",
       "      <td>1.000000</td>\n",
       "      <td>1.000000</td>\n",
       "    </tr>\n",
       "    <tr>\n",
       "      <th>75%</th>\n",
       "      <td>2.000000</td>\n",
       "      <td>2.000000</td>\n",
       "    </tr>\n",
       "    <tr>\n",
       "      <th>max</th>\n",
       "      <td>31.000000</td>\n",
       "      <td>21.000000</td>\n",
       "    </tr>\n",
       "  </tbody>\n",
       "</table>\n",
       "</div>"
      ],
      "text/plain": [
       "         home_score    away_score\n",
       "count  47777.000000  47777.000000\n",
       "mean       1.757896      1.181636\n",
       "std        1.772524      1.399827\n",
       "min        0.000000      0.000000\n",
       "25%        1.000000      0.000000\n",
       "50%        1.000000      1.000000\n",
       "75%        2.000000      2.000000\n",
       "max       31.000000     21.000000"
      ]
     },
     "execution_count": 7,
     "metadata": {},
     "output_type": "execute_result"
    }
   ],
   "source": [
    "df.describe()"
   ]
  },
  {
   "cell_type": "code",
   "execution_count": 8,
   "id": "8727c1f2",
   "metadata": {},
   "outputs": [
    {
     "name": "stdout",
     "output_type": "stream",
     "text": [
      "<class 'pandas.core.frame.DataFrame'>\n",
      "RangeIndex: 47777 entries, 0 to 47776\n",
      "Data columns (total 9 columns):\n",
      " #   Column      Non-Null Count  Dtype \n",
      "---  ------      --------------  ----- \n",
      " 0   date        47777 non-null  object\n",
      " 1   home_team   47777 non-null  object\n",
      " 2   away_team   47777 non-null  object\n",
      " 3   home_score  47777 non-null  int64 \n",
      " 4   away_score  47777 non-null  int64 \n",
      " 5   tournament  47777 non-null  object\n",
      " 6   city        47777 non-null  object\n",
      " 7   country     47777 non-null  object\n",
      " 8   neutral     47777 non-null  bool  \n",
      "dtypes: bool(1), int64(2), object(6)\n",
      "memory usage: 3.0+ MB\n"
     ]
    }
   ],
   "source": [
    "df.info()"
   ]
  },
  {
   "cell_type": "code",
   "execution_count": 9,
   "id": "83a527e6",
   "metadata": {},
   "outputs": [
    {
     "name": "stdout",
     "output_type": "stream",
     "text": [
      "-- Attributes in Data --\n",
      "date\n",
      "home_team\n",
      "away_team\n",
      "home_score\n",
      "away_score\n",
      "tournament\n",
      "city\n",
      "country\n",
      "neutral\n"
     ]
    }
   ],
   "source": [
    "print(\"-- Attributes in Data --\")\n",
    "for cols in df.columns:\n",
    "    print(cols)"
   ]
  },
  {
   "cell_type": "code",
   "execution_count": 10,
   "id": "b05aef03",
   "metadata": {},
   "outputs": [
    {
     "name": "stdout",
     "output_type": "stream",
     "text": [
      "-- Number of instances in Data --\n",
      "date          47777\n",
      "home_team     47777\n",
      "away_team     47777\n",
      "home_score    47777\n",
      "away_score    47777\n",
      "tournament    47777\n",
      "city          47777\n",
      "country       47777\n",
      "neutral       47777\n",
      "dtype: int64\n"
     ]
    }
   ],
   "source": [
    "print(\"-- Number of instances in Data --\")\n",
    "print(df.count())"
   ]
  },
  {
   "cell_type": "code",
   "execution_count": 11,
   "id": "5c4406a5",
   "metadata": {},
   "outputs": [
    {
     "data": {
      "text/plain": [
       "date          16221\n",
       "home_team       327\n",
       "away_team       321\n",
       "home_score       26\n",
       "away_score       22\n",
       "tournament      176\n",
       "city           2077\n",
       "country         270\n",
       "neutral           2\n",
       "dtype: int64"
      ]
     },
     "execution_count": 11,
     "metadata": {},
     "output_type": "execute_result"
    }
   ],
   "source": [
    "df.nunique()"
   ]
  },
  {
   "cell_type": "code",
   "execution_count": 12,
   "id": "68589e61",
   "metadata": {},
   "outputs": [
    {
     "data": {
      "text/plain": [
       "16221"
      ]
     },
     "execution_count": 12,
     "metadata": {},
     "output_type": "execute_result"
    }
   ],
   "source": [
    "df['date'].nunique()"
   ]
  },
  {
   "cell_type": "code",
   "execution_count": 13,
   "id": "acbc0baa",
   "metadata": {},
   "outputs": [
    {
     "data": {
      "text/plain": [
       "2077"
      ]
     },
     "execution_count": 13,
     "metadata": {},
     "output_type": "execute_result"
    }
   ],
   "source": [
    "df['city'].nunique()"
   ]
  },
  {
   "cell_type": "code",
   "execution_count": 14,
   "id": "d645e7e0",
   "metadata": {},
   "outputs": [],
   "source": [
    "df = df.drop('date',axis=1)\n",
    "df = df.drop('city',axis=1)"
   ]
  },
  {
   "cell_type": "code",
   "execution_count": 15,
   "id": "c5d02c4e",
   "metadata": {},
   "outputs": [
    {
     "name": "stdout",
     "output_type": "stream",
     "text": [
      "<class 'pandas.core.frame.DataFrame'>\n",
      "RangeIndex: 47777 entries, 0 to 47776\n",
      "Data columns (total 7 columns):\n",
      " #   Column      Non-Null Count  Dtype \n",
      "---  ------      --------------  ----- \n",
      " 0   home_team   47777 non-null  object\n",
      " 1   away_team   47777 non-null  object\n",
      " 2   home_score  47777 non-null  int64 \n",
      " 3   away_score  47777 non-null  int64 \n",
      " 4   tournament  47777 non-null  object\n",
      " 5   country     47777 non-null  object\n",
      " 6   neutral     47777 non-null  bool  \n",
      "dtypes: bool(1), int64(2), object(4)\n",
      "memory usage: 2.2+ MB\n"
     ]
    }
   ],
   "source": [
    "df.info()"
   ]
  },
  {
   "cell_type": "code",
   "execution_count": 16,
   "id": "1c161b76",
   "metadata": {},
   "outputs": [],
   "source": [
    "df = df.drop('neutral',axis = 1)"
   ]
  },
  {
   "cell_type": "code",
   "execution_count": 17,
   "id": "a584f6c8",
   "metadata": {},
   "outputs": [
    {
     "name": "stdout",
     "output_type": "stream",
     "text": [
      "<class 'pandas.core.frame.DataFrame'>\n",
      "RangeIndex: 47777 entries, 0 to 47776\n",
      "Data columns (total 6 columns):\n",
      " #   Column      Non-Null Count  Dtype \n",
      "---  ------      --------------  ----- \n",
      " 0   home_team   47777 non-null  object\n",
      " 1   away_team   47777 non-null  object\n",
      " 2   home_score  47777 non-null  int64 \n",
      " 3   away_score  47777 non-null  int64 \n",
      " 4   tournament  47777 non-null  object\n",
      " 5   country     47777 non-null  object\n",
      "dtypes: int64(2), object(4)\n",
      "memory usage: 2.2+ MB\n"
     ]
    }
   ],
   "source": [
    "df.info()"
   ]
  },
  {
   "cell_type": "code",
   "execution_count": 18,
   "id": "868817a0",
   "metadata": {},
   "outputs": [],
   "source": [
    "def dataEncoder(cols):\n",
    "    for i in cols:\n",
    "        dataLabelEncoder = LabelEncoder()\n",
    "        df[i] = dataLabelEncoder.fit_transform(df[i])\n",
    "\n",
    "columns = ['home_team','away_team','tournament','country']\n",
    "dataEncoder(columns)"
   ]
  },
  {
   "cell_type": "code",
   "execution_count": 19,
   "id": "f6352362",
   "metadata": {},
   "outputs": [
    {
     "name": "stdout",
     "output_type": "stream",
     "text": [
      "<class 'pandas.core.frame.DataFrame'>\n",
      "RangeIndex: 47777 entries, 0 to 47776\n",
      "Data columns (total 6 columns):\n",
      " #   Column      Non-Null Count  Dtype\n",
      "---  ------      --------------  -----\n",
      " 0   home_team   47777 non-null  int32\n",
      " 1   away_team   47777 non-null  int32\n",
      " 2   home_score  47777 non-null  int64\n",
      " 3   away_score  47777 non-null  int64\n",
      " 4   tournament  47777 non-null  int32\n",
      " 5   country     47777 non-null  int32\n",
      "dtypes: int32(4), int64(2)\n",
      "memory usage: 1.5 MB\n"
     ]
    }
   ],
   "source": [
    "df.info()"
   ]
  },
  {
   "cell_type": "code",
   "execution_count": 20,
   "id": "901fc206",
   "metadata": {},
   "outputs": [],
   "source": [
    "df.to_csv(r'encoded-data.csv', index = False, header = True)"
   ]
  },
  {
   "cell_type": "code",
   "execution_count": 21,
   "id": "bb34bc4b",
   "metadata": {},
   "outputs": [],
   "source": [
    "trainData, testData = train_test_split(df, test_size=0.2, shuffle=False)"
   ]
  },
  {
   "cell_type": "code",
   "execution_count": 22,
   "id": "7bdef5c5",
   "metadata": {},
   "outputs": [
    {
     "data": {
      "text/plain": [
       "(38221, 6)"
      ]
     },
     "execution_count": 22,
     "metadata": {},
     "output_type": "execute_result"
    }
   ],
   "source": [
    "trainData.shape"
   ]
  },
  {
   "cell_type": "code",
   "execution_count": 23,
   "id": "1a927663",
   "metadata": {},
   "outputs": [
    {
     "data": {
      "text/plain": [
       "(9556, 6)"
      ]
     },
     "execution_count": 23,
     "metadata": {},
     "output_type": "execute_result"
    }
   ],
   "source": [
    "testData.shape"
   ]
  },
  {
   "cell_type": "code",
   "execution_count": 24,
   "id": "7bb6381f",
   "metadata": {},
   "outputs": [],
   "source": [
    "train_x = trainData.iloc()[:, 1:]\n",
    "test_x  = testData.iloc()[:, 1:]\n",
    "\n",
    "train_y = trainData.iloc()[:, 0]\n",
    "test_y  = testData.iloc()[:, 0]"
   ]
  },
  {
   "cell_type": "code",
   "execution_count": 25,
   "id": "d3dcb089",
   "metadata": {},
   "outputs": [
    {
     "data": {
      "text/html": [
       "<div>\n",
       "<style scoped>\n",
       "    .dataframe tbody tr th:only-of-type {\n",
       "        vertical-align: middle;\n",
       "    }\n",
       "\n",
       "    .dataframe tbody tr th {\n",
       "        vertical-align: top;\n",
       "    }\n",
       "\n",
       "    .dataframe thead th {\n",
       "        text-align: right;\n",
       "    }\n",
       "</style>\n",
       "<table border=\"1\" class=\"dataframe\">\n",
       "  <thead>\n",
       "    <tr style=\"text-align: right;\">\n",
       "      <th></th>\n",
       "      <th>away_team</th>\n",
       "      <th>home_score</th>\n",
       "      <th>away_score</th>\n",
       "      <th>tournament</th>\n",
       "      <th>country</th>\n",
       "    </tr>\n",
       "  </thead>\n",
       "  <tbody>\n",
       "    <tr>\n",
       "      <th>0</th>\n",
       "      <td>89</td>\n",
       "      <td>0</td>\n",
       "      <td>0</td>\n",
       "      <td>85</td>\n",
       "      <td>206</td>\n",
       "    </tr>\n",
       "    <tr>\n",
       "      <th>1</th>\n",
       "      <td>244</td>\n",
       "      <td>4</td>\n",
       "      <td>2</td>\n",
       "      <td>85</td>\n",
       "      <td>70</td>\n",
       "    </tr>\n",
       "  </tbody>\n",
       "</table>\n",
       "</div>"
      ],
      "text/plain": [
       "   away_team  home_score  away_score  tournament  country\n",
       "0         89           0           0          85      206\n",
       "1        244           4           2          85       70"
      ]
     },
     "execution_count": 25,
     "metadata": {},
     "output_type": "execute_result"
    }
   ],
   "source": [
    "train_x.head(2)"
   ]
  },
  {
   "cell_type": "code",
   "execution_count": 26,
   "id": "81de7f7c",
   "metadata": {},
   "outputs": [
    {
     "data": {
      "text/plain": [
       "0    250\n",
       "1     88\n",
       "Name: home_team, dtype: int32"
      ]
     },
     "execution_count": 26,
     "metadata": {},
     "output_type": "execute_result"
    }
   ],
   "source": [
    "train_y.head(2)"
   ]
  },
  {
   "cell_type": "code",
   "execution_count": 27,
   "id": "0b1da156",
   "metadata": {},
   "outputs": [
    {
     "data": {
      "text/html": [
       "<div>\n",
       "<style scoped>\n",
       "    .dataframe tbody tr th:only-of-type {\n",
       "        vertical-align: middle;\n",
       "    }\n",
       "\n",
       "    .dataframe tbody tr th {\n",
       "        vertical-align: top;\n",
       "    }\n",
       "\n",
       "    .dataframe thead th {\n",
       "        text-align: right;\n",
       "    }\n",
       "</style>\n",
       "<table border=\"1\" class=\"dataframe\">\n",
       "  <thead>\n",
       "    <tr style=\"text-align: right;\">\n",
       "      <th></th>\n",
       "      <th>away_team</th>\n",
       "      <th>home_score</th>\n",
       "      <th>away_score</th>\n",
       "      <th>tournament</th>\n",
       "      <th>country</th>\n",
       "    </tr>\n",
       "  </thead>\n",
       "  <tbody>\n",
       "    <tr>\n",
       "      <th>38221</th>\n",
       "      <td>47</td>\n",
       "      <td>3</td>\n",
       "      <td>0</td>\n",
       "      <td>85</td>\n",
       "      <td>185</td>\n",
       "    </tr>\n",
       "    <tr>\n",
       "      <th>38222</th>\n",
       "      <td>14</td>\n",
       "      <td>1</td>\n",
       "      <td>0</td>\n",
       "      <td>162</td>\n",
       "      <td>187</td>\n",
       "    </tr>\n",
       "  </tbody>\n",
       "</table>\n",
       "</div>"
      ],
      "text/plain": [
       "       away_team  home_score  away_score  tournament  country\n",
       "38221         47           3           0          85      185\n",
       "38222         14           1           0         162      187"
      ]
     },
     "execution_count": 27,
     "metadata": {},
     "output_type": "execute_result"
    }
   ],
   "source": [
    "test_x.head(2)"
   ]
  },
  {
   "cell_type": "code",
   "execution_count": 28,
   "id": "caf1ed87",
   "metadata": {},
   "outputs": [
    {
     "data": {
      "text/plain": [
       "38221    220\n",
       "38222    222\n",
       "Name: home_team, dtype: int32"
      ]
     },
     "execution_count": 28,
     "metadata": {},
     "output_type": "execute_result"
    }
   ],
   "source": [
    "test_y.head(2)"
   ]
  },
  {
   "cell_type": "code",
   "execution_count": 29,
   "id": "13a31ed2",
   "metadata": {},
   "outputs": [
    {
     "name": "stdout",
     "output_type": "stream",
     "text": [
      "SVC()\n"
     ]
    }
   ],
   "source": [
    "model_svc = SVC()\n",
    "model_svc.fit(train_x, train_y)\n",
    "\n",
    "print(model_svc)"
   ]
  },
  {
   "cell_type": "code",
   "execution_count": 30,
   "id": "44c0e74b",
   "metadata": {},
   "outputs": [],
   "source": [
    "pickle.dump(model_svc, open('model_svc.pkl', 'wb'))"
   ]
  },
  {
   "cell_type": "code",
   "execution_count": 31,
   "id": "285c47da",
   "metadata": {},
   "outputs": [],
   "source": [
    "model_svc = pickle.load(open('model_svc.pkl', 'rb'))"
   ]
  },
  {
   "cell_type": "code",
   "execution_count": 32,
   "id": "2cf83a77",
   "metadata": {},
   "outputs": [],
   "source": [
    "model_predictions = model_svc.predict(test_x)"
   ]
  },
  {
   "cell_type": "code",
   "execution_count": 33,
   "id": "0097ab82",
   "metadata": {},
   "outputs": [
    {
     "name": "stdout",
     "output_type": "stream",
     "text": [
      "-- Model Accuracy Score: 0.081\n"
     ]
    }
   ],
   "source": [
    "model_accuracy_score = accuracy_score(test_y, model_predictions)\n",
    "\n",
    "print(\"-- Model Accuracy Score: \", end='')\n",
    "print(round(model_accuracy_score,3))"
   ]
  },
  {
   "cell_type": "code",
   "execution_count": 34,
   "id": "0f9802ba",
   "metadata": {},
   "outputs": [],
   "source": [
    "testdata_predict = testData.copy(deep=True)\n",
    "pd.options.mode.chained_assignment = None\n",
    "\n",
    "testdata_predict['Prediction'] = model_predictions"
   ]
  },
  {
   "cell_type": "code",
   "execution_count": 36,
   "id": "20c7f1a5",
   "metadata": {},
   "outputs": [
    {
     "name": "stdout",
     "output_type": "stream",
     "text": [
      "-- Model Accuracy Score: 0.081\n"
     ]
    }
   ],
   "source": [
    "model_accuracy_score = accuracy_score(testdata_predict['home_team'], testdata_predict['Prediction'])\n",
    "\n",
    "print(\"-- Model Accuracy Score: \", end='')\n",
    "print(round(model_accuracy_score,3))"
   ]
  },
  {
   "cell_type": "code",
   "execution_count": null,
   "id": "8a3e4fe8",
   "metadata": {},
   "outputs": [],
   "source": []
  }
 ],
 "metadata": {
  "kernelspec": {
   "display_name": "Python 3 (ipykernel)",
   "language": "python",
   "name": "python3"
  },
  "language_info": {
   "codemirror_mode": {
    "name": "ipython",
    "version": 3
   },
   "file_extension": ".py",
   "mimetype": "text/x-python",
   "name": "python",
   "nbconvert_exporter": "python",
   "pygments_lexer": "ipython3",
   "version": "3.11.5"
  }
 },
 "nbformat": 4,
 "nbformat_minor": 5
}
